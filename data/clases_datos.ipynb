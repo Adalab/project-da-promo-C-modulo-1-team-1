{
 "cells": [
  {
   "cell_type": "code",
   "execution_count": 3,
   "metadata": {},
   "outputs": [],
   "source": [
    "import re\n",
    "import os\n",
    "import xml.etree.ElementTree as ET\n",
    "import mysql.connector\n",
    "import pandas as pd"
   ]
  },
  {
   "cell_type": "code",
   "execution_count": 4,
   "metadata": {},
   "outputs": [],
   "source": [
    "# Creación de la base de datos\n",
    "def creacion_bbdd(nombrebbdd):\n",
    "    cnx = mysql.connector.connect(user = 'root', password = 'AlumnaAdalab', host = 'localhost')\n",
    "    mycursor = cnx.cursor()\n",
    "    try:\n",
    "        mycursor.execute(f\"CREATE DATABASE {nombrebbdd}\")\n",
    "        print(mycursor)\n",
    "\n",
    "    except mysql.connector.Error as err:\n",
    "        print(err)\n",
    "        print(\"Error Code:\", err.errno)\n",
    "        print(\"SQLSTATE\", err.sqlstate)\n",
    "        print(\"Message\", err.msg)\n",
    "    else:\n",
    "        mycursor.close()\n",
    "        cnx.close()"
   ]
  },
  {
   "cell_type": "code",
   "execution_count": 5,
   "metadata": {},
   "outputs": [
    {
     "name": "stdout",
     "output_type": "stream",
     "text": [
      "1007 (HY000): Can't create database 'proyecto1_team1'; database exists\n",
      "Error Code: 1007\n",
      "SQLSTATE HY000\n",
      "Message Can't create database 'proyecto1_team1'; database exists\n"
     ]
    }
   ],
   "source": [
    "nombre_bbdd = \"proyecto1_team1\"\n",
    "creacion_bbdd(nombre_bbdd)"
   ]
  },
  {
   "cell_type": "code",
   "execution_count": 6,
   "metadata": {},
   "outputs": [],
   "source": [
    "# Creamos las tablas\n",
    "def creacion_tabla(query,nombrebbdd):\n",
    "    \n",
    "    cnx = mysql.connector.connect(user='root', password='AlumnaAdalab',\n",
    "                                host='127.0.0.1', database= nombrebbdd)\n",
    "\n",
    "    mycursor = cnx.cursor()\n",
    "    \n",
    "    try: \n",
    "        mycursor.execute(query)\n",
    "        cnx.commit()\n",
    "        print(mycursor)\n",
    "\n",
    "    except mysql.connector.Error as err:\n",
    "        print(err)\n",
    "        print(\"Error Code:\", err.errno)\n",
    "        print(\"SQLSTATE\", err.sqlstate)\n",
    "        print(\"Message\", err.msg)\n",
    "    \n",
    "    else:\n",
    "        mycursor.close()\n",
    "        cnx.close()"
   ]
  },
  {
   "cell_type": "code",
   "execution_count": 7,
   "metadata": {},
   "outputs": [],
   "source": [
    "tablasql = \"\"\"CREATE TABLE tabla_sql(index_sql int, q10_part_1 varchar(255),\n",
    "                        q10_part_2 varchar(255), q10_part_3 varchar(255), q10_part_4 varchar(255),\n",
    "                        q10_part_5 varchar(255), q10_part_6 varchar(255), q10_part_7 varchar(255),\n",
    "                        q10_part_8 varchar(255), q10_part_9 varchar(255), q10_part_10 varchar(255),\n",
    "                        q10_part_11 varchar(255), q10_part_12 varchar(255), q10_part_13 varchar(255),\n",
    "                        q10_part_14 varchar(255), q10_part_15 varchar(255), q10_part_16 varchar(255),\n",
    "                        q10_other varchar(255), d482xta varchar(255), PRIMARY KEY(index_sql))\"\"\""
   ]
  },
  {
   "cell_type": "code",
   "execution_count": 8,
   "metadata": {},
   "outputs": [],
   "source": [
    "bbdd = \"proyecto1_team1\""
   ]
  },
  {
   "cell_type": "code",
   "execution_count": 9,
   "metadata": {},
   "outputs": [
    {
     "name": "stdout",
     "output_type": "stream",
     "text": [
      "1050 (42S01): Table 'tabla_sql' already exists\n",
      "Error Code: 1050\n",
      "SQLSTATE 42S01\n",
      "Message Table 'tabla_sql' already exists\n"
     ]
    }
   ],
   "source": [
    "creacion_tabla(tablasql,bbdd)"
   ]
  },
  {
   "cell_type": "code",
   "execution_count": 10,
   "metadata": {},
   "outputs": [],
   "source": [
    "tablaxml = \"\"\"CREATE TABLE IF NOT EXISTS tabla_xml(\n",
    "                        index_xml INT,\n",
    "                        `time` VARCHAR(255),\n",
    "                        age VARCHAR(255),\n",
    "                        gender VARCHAR(255),\n",
    "                        index_sql INT,\n",
    "                        PRIMARY KEY(index_xml),\n",
    "                        CONSTRAINT fk_sql_xml\n",
    "                        FOREIGN KEY (index_sql)\n",
    "                        REFERENCES tabla_sql(index_sql))\"\"\""
   ]
  },
  {
   "cell_type": "code",
   "execution_count": 11,
   "metadata": {},
   "outputs": [
    {
     "name": "stdout",
     "output_type": "stream",
     "text": [
      "MySQLCursor: CREATE TABLE IF NOT EXISTS tabla_xml(\n",
      "  ..\n"
     ]
    }
   ],
   "source": [
    "creacion_tabla(tablaxml,bbdd)"
   ]
  },
  {
   "cell_type": "code",
   "execution_count": 14,
   "metadata": {},
   "outputs": [],
   "source": [
    "tablatxt =\"\"\"CREATE TABLE IF NOT EXISTS tabla_txt(\n",
    "                        index_txt INT, index_sql INT, q3 VARCHAR(255), q4 VARCHAR(255),\n",
    "                        q5 VARCHAR(255), q6 VARCHAR(255), q7 VARCHAR(255), q8 VARCHAR(255),\n",
    "                        q9 VARCHAR(255), q11 VARCHAR(255), q12 VARCHAR(255), q13 VARCHAR(255),\n",
    "                        q14 VARCHAR(255), q15 VARCHAR(255), q16 VARCHAR(255), q17 TEXT,\n",
    "                        q20 VARCHAR(255), q21 VARCHAR(255), q22 VARCHAR(255), q23 VARCHAR(255),\n",
    "                        q24 TEXT, q25 VARCHAR(255), q26 VARCHAR(255), q32 TEXT,\n",
    "                        q33 VARCHAR(255), q34 VARCHAR(255), q35 VARCHAR(255), q41 VARCHAR(255),\n",
    "                        PRIMARY KEY(index_txt),\n",
    "                        CONSTRAINT fk_sql_txt FOREIGN KEY (index_sql) REFERENCES tabla_sql(index_sql))\"\"\""
   ]
  },
  {
   "cell_type": "code",
   "execution_count": 15,
   "metadata": {},
   "outputs": [
    {
     "name": "stdout",
     "output_type": "stream",
     "text": [
      "MySQLCursor: CREATE TABLE IF NOT EXISTS tabla_txt(\n",
      "  ..\n"
     ]
    }
   ],
   "source": [
    "creacion_tabla(tablatxt,bbdd)"
   ]
  },
  {
   "cell_type": "code",
   "execution_count": 12,
   "metadata": {},
   "outputs": [],
   "source": [
    "class Lectura_Procesado_datos:\n",
    "    def __init__(self,nombre_fichero, tipo_fichero):\n",
    "        self.nombre_fichero = nombre_fichero\n",
    "        self.tipo_fichero = tipo_fichero\n",
    "\n",
    "    def lectura_fichero(self):\n",
    "        if self.nombre_fichero[-4:] == \".txt\":\n",
    "            with open(self.nombre_fichero,'r') as file:\n",
    "                self.nombre_fichero = file.readlines() \n",
    "            return self.nombre_fichero\n",
    "\n",
    "        elif self.nombre_fichero[-4:] == \".xml\":\n",
    "            \n",
    "            tree = ET.parse(self.nombre_fichero)\n",
    "            root = tree.getroot()\n",
    "\n",
    "            self.nombre_fichero = []\n",
    "            for child in root:\n",
    "                xml_dict = {}\n",
    "                for subchild in child:\n",
    "                    xml_dict[subchild.tag] = subchild.text\n",
    "                self.nombre_fichero.append(xml_dict) # Es una lista que contiene diccionarios\n",
    "            return self.nombre_fichero\n",
    "    \n",
    "    def limpieza_fichero(self,lista,tipo_fichero):\n",
    "\n",
    "        if tipo_fichero == \"txt\":\n",
    "            for i in lista:\n",
    "                lista[lista.index(i)] = lista[lista.index(i)].replace(\"null\",\"NULL\").replace(\"<\",\"under\").replace(\"\\n\",\"\").split(\";\")\n",
    "        # Quitamos los espacios antes y después de los strings\n",
    "            for i in lista:\n",
    "                for n in i:\n",
    "                    i[i.index(n)] = n.strip()\n",
    "            contador = 0\n",
    "            for i in lista:\n",
    "                i.insert(1,contador)\n",
    "                contador +=1\n",
    "                try:\n",
    "                    i[0] = int(i[0])\n",
    "                except:\n",
    "                    continue\n",
    "            \n",
    "            tupla_txt = [tuple(i) for i in lista]\n",
    "            \n",
    "            tupla_txt.pop(0)\n",
    "            \n",
    "            return tupla_txt\n",
    "        \n",
    "        elif tipo_fichero == \"xml\":\n",
    "            for item in lista:\n",
    "                item.pop(\"level_0\", \"No existe\") # por si level_0 no existe\n",
    "                item[\"index\"] = int(item[\"index\"])\n",
    "                if item[\"gender\"] == '0':\n",
    "                    item.update({\"gender\": \"Man\"})\n",
    "                elif item[\"gender\"] == '1':\n",
    "                    item.update({\"gender\": \"Woman\"})\n",
    "                elif item[\"gender\"] == '2':\n",
    "                    item.update({\"gender\": \"Nonbinary\"})\n",
    "                elif item[\"gender\"] == '3':\n",
    "                    item.update({\"gender\": \"Prefer not to say\"})\n",
    "                elif item[\"gender\"] == '4':\n",
    "                    item.update({\"gender\": \"Prefer to self-describe\"})\n",
    "                item.setdefault(\"index_sql\", int(item[\"index\"]))\n",
    "            \n",
    "            tupla_xml = []\n",
    "            for i in lista:\n",
    "                tupla_xml.append(tuple(i.values()))\n",
    "            \n",
    "            return tupla_xml"
   ]
  },
  {
   "cell_type": "code",
   "execution_count": 13,
   "metadata": {},
   "outputs": [],
   "source": [
    "clase_xml = Lectura_Procesado_datos(\"data_xml.xml\", \"xml\")"
   ]
  },
  {
   "cell_type": "code",
   "execution_count": 14,
   "metadata": {},
   "outputs": [],
   "source": [
    "lectura_xml = clase_xml.lectura_fichero()"
   ]
  },
  {
   "cell_type": "code",
   "execution_count": 15,
   "metadata": {},
   "outputs": [],
   "source": [
    "final_xml = clase_xml.limpieza_fichero(lectura_xml,\"xml\")"
   ]
  },
  {
   "cell_type": "code",
   "execution_count": 16,
   "metadata": {},
   "outputs": [],
   "source": [
    "clase_txt = Lectura_Procesado_datos(\"data_txt.txt\", \"txt\")"
   ]
  },
  {
   "cell_type": "code",
   "execution_count": 18,
   "metadata": {},
   "outputs": [],
   "source": [
    "lectura_txt = clase_txt.lectura_fichero()"
   ]
  },
  {
   "cell_type": "code",
   "execution_count": 19,
   "metadata": {},
   "outputs": [],
   "source": [
    "final_txt = clase_txt.limpieza_fichero(lectura_txt,\"txt\")"
   ]
  },
  {
   "cell_type": "code",
   "execution_count": 20,
   "metadata": {},
   "outputs": [],
   "source": [
    "def insercion_datos(query,lista,nombrebbdd):\n",
    "    \n",
    "\n",
    "    cnx = mysql.connector.connect(user='root', password='AlumnaAdalab',\n",
    "                                host='127.0.0.1', database=nombrebbdd)\n",
    "\n",
    "\n",
    "    mycursor = cnx.cursor()\n",
    "    \n",
    "    \n",
    "    try: \n",
    "        \n",
    "        mycursor.execute(\"SET foreign_key_checks = 0;\")\n",
    "        mycursor.executemany(query, lista)\n",
    "        cnx.commit()\n",
    "        print(mycursor.rowcount, \"registro insertado.\")\n",
    "        mycursor.execute(\"SET foreign_key_checks = 1;\")\n",
    "\n",
    "    except mysql.connector.Error as err:\n",
    "        print(err)\n",
    "        print(\"Error Code:\", err.errno)\n",
    "        print(\"SQLSTATE\", err.sqlstate)\n",
    "        print(\"Message\", err.msg)\n",
    "    \n",
    "    else:\n",
    "        mycursor.close()\n",
    "        cnx.close()"
   ]
  },
  {
   "cell_type": "code",
   "execution_count": 21,
   "metadata": {},
   "outputs": [],
   "source": [
    "sql_xml = \"INSERT INTO tabla_xml(index_xml, `time`, age, gender, index_sql) VALUES (%s,%s,%s,%s,%s);\""
   ]
  },
  {
   "cell_type": "code",
   "execution_count": 22,
   "metadata": {},
   "outputs": [
    {
     "name": "stdout",
     "output_type": "stream",
     "text": [
      "25972 registro insertado.\n"
     ]
    }
   ],
   "source": [
    "insercion_datos(sql_xml,final_xml,bbdd)"
   ]
  },
  {
   "cell_type": "code",
   "execution_count": 23,
   "metadata": {},
   "outputs": [],
   "source": [
    "sql_txt = \"\"\" INSERT INTO tabla_txt(index_txt, index_sql, q3, q4, q5, q6, q7, q8, q9, q11, q12, q13, q14, q15, q16, q17, q20, q21, q22, q23, q24, q25, q26, q32, q33, q34, q35, q41 ) \n",
    "                                VALUES (%s,%s,%s,%s,%s,%s,%s,%s,%s,%s,%s,%s,%s,%s,%s,%s,%s,%s,%s,%s,%s,%s,%s,%s,%s,%s,%s,%s)\"\"\""
   ]
  },
  {
   "cell_type": "code",
   "execution_count": 24,
   "metadata": {},
   "outputs": [
    {
     "name": "stdout",
     "output_type": "stream",
     "text": [
      "25972 registro insertado.\n"
     ]
    }
   ],
   "source": [
    "insercion_datos(sql_txt,final_txt,bbdd)"
   ]
  }
 ],
 "metadata": {
  "kernelspec": {
   "display_name": "Python 3.9.7 ('base')",
   "language": "python",
   "name": "python3"
  },
  "language_info": {
   "codemirror_mode": {
    "name": "ipython",
    "version": 3
   },
   "file_extension": ".py",
   "mimetype": "text/x-python",
   "name": "python",
   "nbconvert_exporter": "python",
   "pygments_lexer": "ipython3",
   "version": "3.9.7"
  },
  "orig_nbformat": 4,
  "vscode": {
   "interpreter": {
    "hash": "a132548e790cb25f951c67ed157520233be95043d6eb3836371ed4d98e90df31"
   }
  }
 },
 "nbformat": 4,
 "nbformat_minor": 2
}
