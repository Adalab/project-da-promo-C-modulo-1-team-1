{
 "cells": [
  {
   "cell_type": "markdown",
   "metadata": {},
   "source": [
    "# Este archivo contiene el código necesario para poder leer los ficheros xml y txt.Debido a que este contenido aún no se ha visto en clase, pero se verá a lo largo del módulo 1"
   ]
  },
  {
   "cell_type": "markdown",
   "metadata": {},
   "source": [
    "## Lectura del fichero XML\n",
    "\n",
    "Nos devuelve una lista que contiene diccionarios con los diferentes elementos del archivo xml.\n",
    "\n",
    "Ejemplo:\n",
    "\n",
    "[{'level_0': 1, 'index': 1'time': 784, 'age': '50-54', 'gender': '0' },\n",
    " {'level_0': 2, 'index': 2'time': 924, 'age': '22-24', 'gender': '0'},\n",
    " {'level_0': 2, 'index': 2'time': 575, 'age': '45-49', 'gender': '0'},\n",
    " {'level_0': 2, 'index': 2'time': 781, 'age': '45-49', 'gender': '0'}\n",
    " {'level_0': 2, 'index': 2'time': 1020, 'age': '25-29', 'gender': '1'}]\n",
    "\n",
    "\n",
    "> Recomendación: Aprender a tratar los datos de un elemento del diccionario, antes de intentar aplicarlo a todos los datos del fichero xml."
   ]
  },
  {
   "cell_type": "code",
   "execution_count": 28,
   "metadata": {},
   "outputs": [],
   "source": [
    "import re\n",
    "import os\n",
    "import xml.etree.ElementTree as ET\n",
    "\n",
    "tree = ET.parse('data_xml.xml')\n",
    "root = tree.getroot()\n",
    "\n",
    "\n",
    "xml_list = []\n",
    "for child in root:\n",
    "    xml_dict = {}\n",
    "    for subchild in child:\n",
    "        xml_dict[subchild.tag] = subchild.text\n",
    "    xml_list.append(xml_dict) # Es una lista que contiene diccionarios\n",
    "    "
   ]
  },
  {
   "cell_type": "code",
   "execution_count": null,
   "metadata": {},
   "outputs": [],
   "source": [
    "dict1 = {'level_0': '2', 'index': '2', 'time': '924', 'age': '22-24', 'gender': '0'}"
   ]
  },
  {
   "cell_type": "code",
   "execution_count": 4,
   "metadata": {},
   "outputs": [],
   "source": [
    "# Cambiamos el concepto de los géneros:\n",
    "for c in xml_list:\n",
    "    if c[\"gender\"] == \"0\":\n",
    "        c[\"gender\"] = \"man\"\n",
    "    elif c[\"gender\"] == \"1\":\n",
    "        c[\"gender\"] = \"woman\"\n",
    "    elif c[\"gender\"] == \"2\":\n",
    "        c[\"gender\"] = \"nonbinary\"\n",
    "    elif c[\"gender\"] == \"3\":\n",
    "        c[\"gender\"] = \"prefer not to say\"\n",
    "    elif c[\"gender\"] == \"4\":\n",
    "        c[\"gender\"] = \"prefer to self-describe\""
   ]
  },
  {
   "cell_type": "code",
   "execution_count": 5,
   "metadata": {},
   "outputs": [],
   "source": [
    "def limpieza_xml_genero (datos):\n",
    "    for c in datos:\n",
    "        if c[\"gender\"] == \"0\":\n",
    "            c[\"gender\"] = \"man\"\n",
    "        elif c[\"gender\"] == \"1\":\n",
    "            c[\"gender\"] = \"woman\"\n",
    "        elif c[\"gender\"] == \"2\":\n",
    "            c[\"gender\"] = \"nonbinary\"\n",
    "        elif c[\"gender\"] == \"3\":\n",
    "            c[\"gender\"] = \"prefer not to say\"\n",
    "        elif c[\"gender\"] == \"4\":\n",
    "            c[\"gender\"] = \"prefer to self-describe\""
   ]
  },
  {
   "cell_type": "code",
   "execution_count": 15,
   "metadata": {},
   "outputs": [],
   "source": [
    "limpieza_xml_genero(xml_list)"
   ]
  },
  {
   "cell_type": "code",
   "execution_count": 7,
   "metadata": {},
   "outputs": [],
   "source": [
    "# Eliminamos la columna que resulta redundante:\n",
    "for a in xml_list:\n",
    "    a.pop(\"level_0\")"
   ]
  },
  {
   "cell_type": "code",
   "execution_count": 8,
   "metadata": {},
   "outputs": [
    {
     "data": {
      "text/plain": [
       "{'index': '35', 'time': '460', 'age': '30-34', 'gender': 'woman'}"
      ]
     },
     "execution_count": 8,
     "metadata": {},
     "output_type": "execute_result"
    }
   ],
   "source": [
    "xml_list[34]"
   ]
  },
  {
   "cell_type": "code",
   "execution_count": null,
   "metadata": {},
   "outputs": [],
   "source": [
    "print(xml_list)"
   ]
  },
  {
   "cell_type": "code",
   "execution_count": 84,
   "metadata": {},
   "outputs": [],
   "source": [
    "\n",
    "class Datos_xml:\n",
    "    # Esta clase almacenará la función para leer y limpiar los datos xml.\n",
    "    # Sólo tenemos que darle la ruta dónde se encuetra nuestro archivo.\n",
    "\n",
    "    def __init__ (self, ruta):\n",
    "\n",
    "        self.ruta = ruta\n",
    "\n",
    "    def lectura_xml(self):\n",
    "            import re\n",
    "            import os\n",
    "            import xml.etree.ElementTree as ET\n",
    "            \n",
    "            tree = ET.parse(self.ruta)\n",
    "            root = tree.getroot()\n",
    "            \n",
    "            xml_list = []\n",
    "            for child in root:\n",
    "                xml_dict = {}\n",
    "                for subchild in child:\n",
    "                    xml_dict[subchild.tag] = subchild.text\n",
    "                    xml_list.append(xml_dict) # Es una lista que contiene diccionarios\n",
    "            return xml_list\n",
    "    \n",
    "        \n",
    "    def limpieza_xml(self, xml_list):\n",
    "\n",
    "        self.xml_list = xml_list\n",
    "            # Con esta función, limpiamos los datos obtenidos. \n",
    "            # Como argumento, tendremos que darle la variable creada con el método lectura_xml.\n",
    "            \n",
    "        for c in xml_list:\n",
    "            \n",
    "            if c[\"gender\"] == \"0\":\n",
    "                c[\"gender\"] = \"man\"\n",
    "            \n",
    "            elif c[\"gender\"] == \"1\":\n",
    "                c[\"gender\"] = \"woman\"\n",
    "        \n",
    "            elif c[\"gender\"] == \"2\":\n",
    "                c[\"gender\"] = \"nonbinary\"\n",
    "        \n",
    "            elif c[\"gender\"] == \"3\":\n",
    "                c[\"gender\"] = \"prefer not to say\"\n",
    "            \n",
    "            elif c[\"gender\"] == \"4\":\n",
    "                c[\"gender\"] = \"prefer to self-describe\"\n",
    "\n",
    "        return xml_list\n",
    "\n",
    "\n",
    "    def eliminar_columna(self, xml_limpio):\n",
    "\n",
    "        self.xml_limpio = xml_limpio\n",
    "            # Con esta función, eliminamos la primera columna, puesto que resulta redundante.\n",
    "            # Como argumento, tendremos que darle la variable creada con el método limpieza_xml.\n",
    "        try:\n",
    "            for a in xml_limpio:\n",
    "             a.pop(\"level_0\")\n",
    "\n",
    "        except: pass\n",
    "        return xml_limpio\n",
    "\n",
    "    \n",
    "    def conversion(self, xml_limpio):\n",
    "\n",
    "        self.xml_limpio = xml_limpio\n",
    "        xml_tuplas = []\n",
    "\n",
    "        for i in xml_limpio:\n",
    "            \n",
    "            xml_tuplas.append(tuple(i.values()))\n",
    "\n",
    "        return xml_tuplas\n",
    "\n"
   ]
  },
  {
   "cell_type": "code",
   "execution_count": 85,
   "metadata": {},
   "outputs": [],
   "source": [
    "datos_xml = Datos_xml('data_xml.xml')"
   ]
  },
  {
   "cell_type": "code",
   "execution_count": 86,
   "metadata": {},
   "outputs": [],
   "source": [
    "xml_lectura = datos_xml.lectura_xml()"
   ]
  },
  {
   "cell_type": "code",
   "execution_count": 87,
   "metadata": {},
   "outputs": [],
   "source": [
    "xml_limpio = datos_xml.limpieza_xml(xml_lectura)"
   ]
  },
  {
   "cell_type": "code",
   "execution_count": 88,
   "metadata": {},
   "outputs": [],
   "source": [
    "xml_columna = datos_xml.eliminar_columna(xml_limpio)"
   ]
  },
  {
   "cell_type": "code",
   "execution_count": 89,
   "metadata": {},
   "outputs": [],
   "source": [
    "xml_final = datos_xml.conversion(xml_columna)"
   ]
  },
  {
   "cell_type": "markdown",
   "metadata": {},
   "source": [
    "## Lectura del fichero TXT\n",
    "\n",
    "Nos devuelve una lista que contiene todos los elementos del archivo txt, cada elemento de la lista se toma como un único string. Cada elemento de la lista termina con \\n\n",
    "\n",
    "Ejemplo:\n",
    "\n",
    "['index_sql;Q3;Q4;Q5;Q6;Q7;Q8;Q9;Q11;Q12;Q13;Q14;Q15;Q16;Q17;Q20;Q21;Q22;Q23;Q24;Q25;Q26;Q32;Q33;Q34;Q35;Q41\\n',\n",
    " '1;Indonesia;Master’s degree;Program/Project Manager;20+ years;null, SQL, C, C++, Java;Python;null,   Notepad++  ,  Jupyter Notebook;A cloud computing platform (AWS, Azure, GCP, hosted notebooks, etc);null, None;Never; Matplotlib ;Under 1 year;  Scikit-learn ;Linear or Logistic Regression, Decision Trees or Random Forests;Manufacturing/Fabrication;1000-9,999 employees;1-2;We are exploring ML methods (and may one day put a model into production);null, Build and/or run the data infrastructure that my business uses for storing, analyzing, and operationalizing data;60,000-69,999;$0 ($USD);;;;;Advanced statistical software (SPSS, SAS, etc.)\\n',\n",
    " '2;Pakistan;Master’s degree;Software Engineer;1-3 years;Python, C++, Java;Python;null,  PyCharm ,  Jupyter Notebook, Other;A laptop;null, Other;Never; Matplotlib ;I do not use machine learning methods;;;Academics/Education;1000-9,999 employees;0;I do not know;null, None of these activities are an important part of my role at work;$0-999;$0 ($USD);MySQL , MongoDB ;MySQL ;null, None;;Basic statistical software (Microsoft Excel, Google Sheets, etc.)\\n',\n",
    " '3;Mexico;Doctoral degree;Research Scientist;20+ years;Python;Python;null,   Spyder  ,  Jupyter Notebook;A cloud computing platform (AWS, Azure, GCP, hosted notebooks, etc); NVIDIA GPUs ;More than 25 times; Matplotlib ;5-10 years;  Scikit-learn ,   TensorFlow ,  Keras ;null, Dense Neural Networks (MLPs, etc), Convolutional Neural Networks, Recurrent Neural Networks;Academics/Education;1000-9,999 employees;0;I do not know;null, Do research that advances the state of the art of machine learning;30,000-39,999;$0 ($USD);;;;;Local development environments (RStudio, JupyterLab, etc.)\\n',\n",
    "\n",
    "\n",
    "> Recomendación: Aprender a tratar los datos de algunos de los elementos de la lista, antes de intentar aplicarlo a todos los datos del fichero txt.\n",
    " - Primer elemento de la lista:\n",
    "    lista[0] = 'index_sql;Q3;Q4;Q5;Q6;Q7;Q8;Q9;Q11;Q12;Q13;Q14;Q15;Q16;Q17;Q20;Q21;Q22;Q23;Q24;Q25;Q26;Q32;Q33;Q34;Q35;Q41\\n'"
   ]
  },
  {
   "cell_type": "code",
   "execution_count": 4,
   "metadata": {},
   "outputs": [],
   "source": [
    "with open('data_txt_reorder.txt','r') as file:\n",
    "    file_source = file.readlines() # Es una lista que cada línea del fichero txt como un string de todos los datos."
   ]
  },
  {
   "cell_type": "code",
   "execution_count": 5,
   "metadata": {},
   "outputs": [],
   "source": [
    "# Cambiamos los 'null' por 'NULL':\n",
    "new_list = []\n",
    "for z in file_source:\n",
    "    resultado = z.replace('null', 'NULL')\n",
    "    new_list.append(resultado)"
   ]
  },
  {
   "cell_type": "code",
   "execution_count": 23,
   "metadata": {},
   "outputs": [],
   "source": [
    "def cambiar_null(a):\n",
    "    new_list = []\n",
    "    for z in a:\n",
    "        resultado = z.replace('null', 'NULL')\n",
    "        new_list.append(resultado)\n",
    "    return new_list"
   ]
  },
  {
   "cell_type": "code",
   "execution_count": 6,
   "metadata": {},
   "outputs": [],
   "source": [
    "# Cambiamos los '<' por 'under':\n",
    "new_list2 = []\n",
    "for y in new_list:\n",
    "    resultado = y.replace('<', ' under')\n",
    "    new_list2.append(resultado)"
   ]
  },
  {
   "cell_type": "code",
   "execution_count": 27,
   "metadata": {},
   "outputs": [],
   "source": [
    "def cambiar_under(a):\n",
    "    new_list = []\n",
    "    for z in a:\n",
    "        resultado = z.replace('<', 'under')\n",
    "        new_list.append(resultado)\n",
    "    return new_list"
   ]
  },
  {
   "cell_type": "code",
   "execution_count": 7,
   "metadata": {},
   "outputs": [],
   "source": [
    "# Eliminamos los saltos de línea:\n",
    "new_list3 = []\n",
    "for x in new_list2:\n",
    "    resultado = x.replace('\\n', '')\n",
    "    new_list3.append(resultado)"
   ]
  },
  {
   "cell_type": "code",
   "execution_count": null,
   "metadata": {},
   "outputs": [],
   "source": [
    "def eliminar_saltos(a):\n",
    "    new_list = []\n",
    "    for z in a:\n",
    "        resultado = z.replace('\\n', '')\n",
    "        new_list.append(resultado)\n",
    "    return new_list"
   ]
  },
  {
   "cell_type": "code",
   "execution_count": 8,
   "metadata": {},
   "outputs": [],
   "source": [
    "# Eliminamos los espacios dobles:\n",
    "new_list4 = []\n",
    "for v in new_list3:\n",
    "    resultado = v.replace(\"  \", \" \")\n",
    "    new_list4.append(resultado)"
   ]
  },
  {
   "cell_type": "code",
   "execution_count": null,
   "metadata": {},
   "outputs": [],
   "source": [
    "def eliminar_espacios(a):\n",
    "    new_list = []\n",
    "    for z in a:\n",
    "        resultado = z.replace('  ', ' ')\n",
    "        new_list.append(resultado)\n",
    "    return new_list"
   ]
  },
  {
   "cell_type": "code",
   "execution_count": 6,
   "metadata": {},
   "outputs": [],
   "source": [
    "class Datos_txt:\n",
    "# Esta clase servirá para leer y limpiar los ficheros txt.\n",
    "# Solo tenemos que darle la ruta donde se encuentra nuestro archivo.\n",
    "\n",
    "    def __init__ (self, ruta):\n",
    "\n",
    "        self.ruta = ruta\n",
    "\n",
    "# Este método abre nuestro archivo para poder empezar a trabajar con él.\n",
    "\n",
    "    def lectura_txt(self):\n",
    "\n",
    "        import re\n",
    "        import os\n",
    "        \n",
    "        with open(self.ruta,'r') as file:\n",
    "            txt_list = file.readlines() \n",
    "            \n",
    "        return txt_list\n",
    "\n",
    "    def cambiar_null(self, txt_list):\n",
    "        \n",
    "        self.txt_list = txt_list\n",
    "        txt_null = []\n",
    "    \n",
    "        for z in txt_list:\n",
    "            resultado = z.replace('null', 'NULL')\n",
    "            txt_null.append(resultado)\n",
    "        return txt_null\n",
    "        \n",
    "        \n",
    "    def cambiar_under(self, txt_null):\n",
    "        \n",
    "        self.txt_null = txt_null\n",
    "        \n",
    "        txt_under = []\n",
    "        for z in txt_null:\n",
    "            resultado = z.replace('<', 'under')\n",
    "            txt_under.append(resultado)\n",
    "        return txt_under\n",
    "        \n",
    "    \n",
    "    def eliminar_saltos(self, txt_under):\n",
    "        \n",
    "        self.txt_under = txt_under\n",
    "        \n",
    "        txt_saltos = []\n",
    "        for z in txt_under:\n",
    "            resultado = z.replace('\\n', '')\n",
    "            txt_saltos.append(resultado)\n",
    "        return txt_saltos\n",
    "\n",
    "\n",
    "    def eliminar_espacios(self, txt_saltos):\n",
    "        \n",
    "        self.txt_saltos = txt_saltos\n",
    "        \n",
    "        txt_espacios = []\n",
    "        for z in txt_saltos:\n",
    "            resultado = z.replace('  ', ' ')\n",
    "            txt_espacios.append(resultado)\n",
    "        return txt_espacios\n",
    "\n",
    "    def conversion(self, txt_espacios):\n",
    "\n",
    "        self.txt_espacios = txt_espacios\n",
    "        lista_values = []\n",
    "\n",
    "        for x in txt_espacios:\n",
    "\n",
    "            \n",
    "            value = tuple(x.split(\";\"))\n",
    "            lista_values.append(value)\n",
    "\n",
    "        return lista_values\n"
   ]
  },
  {
   "cell_type": "code",
   "execution_count": 2,
   "metadata": {},
   "outputs": [],
   "source": [
    "Ada = \"Adalab, Bootcamp\""
   ]
  },
  {
   "cell_type": "code",
   "execution_count": 3,
   "metadata": {},
   "outputs": [
    {
     "data": {
      "text/plain": [
       "['Adalab', ' Bootcamp']"
      ]
     },
     "execution_count": 3,
     "metadata": {},
     "output_type": "execute_result"
    }
   ],
   "source": [
    "Ada.split(\",\")"
   ]
  },
  {
   "cell_type": "code",
   "execution_count": 5,
   "metadata": {},
   "outputs": [
    {
     "data": {
      "text/plain": [
       "('Adalab', ' Bootcamp')"
      ]
     },
     "execution_count": 5,
     "metadata": {},
     "output_type": "execute_result"
    }
   ],
   "source": [
    "tuple(Ada.split(\",\"))"
   ]
  },
  {
   "cell_type": "code",
   "execution_count": 7,
   "metadata": {},
   "outputs": [],
   "source": [
    "datos_txt = Datos_txt('data_txt_reorder.txt')"
   ]
  },
  {
   "cell_type": "code",
   "execution_count": 8,
   "metadata": {},
   "outputs": [],
   "source": [
    "lectura_txt = datos_txt.lectura_txt()"
   ]
  },
  {
   "cell_type": "code",
   "execution_count": 9,
   "metadata": {},
   "outputs": [],
   "source": [
    "txt_null = datos_txt.cambiar_null(lectura_txt)"
   ]
  },
  {
   "cell_type": "code",
   "execution_count": 10,
   "metadata": {},
   "outputs": [],
   "source": [
    "txt_under = datos_txt.cambiar_under(txt_null)"
   ]
  },
  {
   "cell_type": "code",
   "execution_count": 11,
   "metadata": {},
   "outputs": [],
   "source": [
    "txt_saltos = datos_txt.eliminar_saltos(txt_under)"
   ]
  },
  {
   "cell_type": "code",
   "execution_count": 12,
   "metadata": {},
   "outputs": [],
   "source": [
    "txt_espacios = datos_txt.eliminar_espacios(txt_saltos)"
   ]
  },
  {
   "cell_type": "code",
   "execution_count": 13,
   "metadata": {},
   "outputs": [],
   "source": [
    "txt_final = datos_txt.conversion(txt_espacios)"
   ]
  },
  {
   "cell_type": "code",
   "execution_count": 14,
   "metadata": {},
   "outputs": [
    {
     "data": {
      "text/plain": [
       "('2',\n",
       " 'Pakistan',\n",
       " 'Master’s degree',\n",
       " 'Software Engineer',\n",
       " '1-3 years',\n",
       " 'Python, C++, Java',\n",
       " 'Python',\n",
       " 'NULL, PyCharm , Jupyter Notebook, Other',\n",
       " 'A laptop',\n",
       " 'NULL, Other',\n",
       " 'Never',\n",
       " ' Matplotlib ',\n",
       " 'I do not use machine learning methods',\n",
       " '',\n",
       " '',\n",
       " 'Academics/Education',\n",
       " '1000-9,999 employees',\n",
       " '0',\n",
       " 'I do not know',\n",
       " 'NULL, None of these activities are an important part of my role at work',\n",
       " '$0-999',\n",
       " '$0 ($USD)',\n",
       " 'MySQL , MongoDB ',\n",
       " 'MySQL ',\n",
       " 'NULL, None',\n",
       " '',\n",
       " 'Basic statistical software (Microsoft Excel, Google Sheets, etc.)')"
      ]
     },
     "execution_count": 14,
     "metadata": {},
     "output_type": "execute_result"
    }
   ],
   "source": [
    "txt_final[2]"
   ]
  }
 ],
 "metadata": {
  "kernelspec": {
   "display_name": "Python 3.9.7 ('base')",
   "language": "python",
   "name": "python3"
  },
  "language_info": {
   "codemirror_mode": {
    "name": "ipython",
    "version": 3
   },
   "file_extension": ".py",
   "mimetype": "text/x-python",
   "name": "python",
   "nbconvert_exporter": "python",
   "pygments_lexer": "ipython3",
   "version": "3.9.7"
  },
  "orig_nbformat": 4,
  "vscode": {
   "interpreter": {
    "hash": "a132548e790cb25f951c67ed157520233be95043d6eb3836371ed4d98e90df31"
   }
  }
 },
 "nbformat": 4,
 "nbformat_minor": 2
}
