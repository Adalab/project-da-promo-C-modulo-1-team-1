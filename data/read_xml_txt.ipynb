{
 "cells": [
  {
   "cell_type": "markdown",
   "metadata": {},
   "source": [
    "# Este archivo contiene el código necesario para poder leer los ficheros xml y txt.Debido a que este contenido aún no se ha visto en clase, pero se verá a lo largo del módulo 1"
   ]
  },
  {
   "cell_type": "markdown",
   "metadata": {},
   "source": [
    "## Lectura del fichero XML\n",
    "\n",
    "Nos devuelve una lista que contiene diccionarios con los diferentes elementos del archivo xml.\n",
    "\n",
    "Ejemplo:\n",
    "\n",
    "[{'level_0': 1, 'index': 1'time': 784, 'age': '50-54', 'gender': '0' },\n",
    " {'level_0': 2, 'index': 2'time': 924, 'age': '22-24', 'gender': '0'},\n",
    " {'level_0': 2, 'index': 2'time': 575, 'age': '45-49', 'gender': '0'},\n",
    " {'level_0': 2, 'index': 2'time': 781, 'age': '45-49', 'gender': '0'}\n",
    " {'level_0': 2, 'index': 2'time': 1020, 'age': '25-29', 'gender': '1'}]\n",
    "\n",
    "\n",
    "> Recomendación: Aprender a tratar los datos de un elemento del diccionario, antes de intentar aplicarlo a todos los datos del fichero xml."
   ]
  },
  {
   "cell_type": "code",
   "execution_count": 28,
   "metadata": {},
   "outputs": [],
   "source": [
    "import re\n",
    "import os\n",
    "import xml.etree.ElementTree as ET\n",
    "\n",
    "tree = ET.parse('data_xml.xml')\n",
    "root = tree.getroot()\n",
    "\n",
    "\n",
    "xml_list = []\n",
    "for child in root:\n",
    "    xml_dict = {}\n",
    "    for subchild in child:\n",
    "        xml_dict[subchild.tag] = subchild.text\n",
    "    xml_list.append(xml_dict) # Es una lista que contiene diccionarios\n",
    "    "
   ]
  },
  {
   "cell_type": "code",
   "execution_count": null,
   "metadata": {},
   "outputs": [],
   "source": [
    "dict1 = {'level_0': '2', 'index': '2', 'time': '924', 'age': '22-24', 'gender': '0'}"
   ]
  },
  {
   "cell_type": "code",
   "execution_count": 4,
   "metadata": {},
   "outputs": [],
   "source": [
    "# Cambiamos el concepto de los géneros:\n",
    "for c in xml_list:\n",
    "    if c[\"gender\"] == \"0\":\n",
    "        c[\"gender\"] = \"man\"\n",
    "    elif c[\"gender\"] == \"1\":\n",
    "        c[\"gender\"] = \"woman\"\n",
    "    elif c[\"gender\"] == \"2\":\n",
    "        c[\"gender\"] = \"nonbinary\"\n",
    "    elif c[\"gender\"] == \"3\":\n",
    "        c[\"gender\"] = \"prefer not to say\"\n",
    "    elif c[\"gender\"] == \"4\":\n",
    "        c[\"gender\"] = \"prefer to self-describe\""
   ]
  },
  {
   "cell_type": "code",
   "execution_count": 5,
   "metadata": {},
   "outputs": [],
   "source": [
    "def limpieza_xml_genero (datos):\n",
    "    for c in datos:\n",
    "        if c[\"gender\"] == \"0\":\n",
    "            c[\"gender\"] = \"man\"\n",
    "        elif c[\"gender\"] == \"1\":\n",
    "            c[\"gender\"] = \"woman\"\n",
    "        elif c[\"gender\"] == \"2\":\n",
    "            c[\"gender\"] = \"nonbinary\"\n",
    "        elif c[\"gender\"] == \"3\":\n",
    "            c[\"gender\"] = \"prefer not to say\"\n",
    "        elif c[\"gender\"] == \"4\":\n",
    "            c[\"gender\"] = \"prefer to self-describe\""
   ]
  },
  {
   "cell_type": "code",
   "execution_count": 15,
   "metadata": {},
   "outputs": [],
   "source": [
    "limpieza_xml_genero(xml_list)"
   ]
  },
  {
   "cell_type": "code",
   "execution_count": 7,
   "metadata": {},
   "outputs": [],
   "source": [
    "# Eliminamos la columna que resulta redundante:\n",
    "for a in xml_list:\n",
    "    a.pop(\"level_0\")"
   ]
  },
  {
   "cell_type": "code",
   "execution_count": 8,
   "metadata": {},
   "outputs": [
    {
     "data": {
      "text/plain": [
       "{'index': '35', 'time': '460', 'age': '30-34', 'gender': 'woman'}"
      ]
     },
     "execution_count": 8,
     "metadata": {},
     "output_type": "execute_result"
    }
   ],
   "source": [
    "xml_list[34]"
   ]
  },
  {
   "cell_type": "code",
   "execution_count": null,
   "metadata": {},
   "outputs": [],
   "source": [
    "print(xml_list)"
   ]
  },
  {
   "cell_type": "code",
   "execution_count": 1,
   "metadata": {},
   "outputs": [],
   "source": [
    "\n",
    "class Datos_xml:\n",
    "    # Esta clase almacenará la función para leer y limpiar los datos xml.\n",
    "    # Sólo tenemos que darle la ruta dónde se encuetra nuestro archivo.\n",
    "\n",
    "    def __init__ (self, ruta):\n",
    "\n",
    "        self.ruta = ruta\n",
    "\n",
    "    def lectura_xml(self):\n",
    "            import re\n",
    "            import os\n",
    "            import xml.etree.ElementTree as ET\n",
    "            \n",
    "            tree = ET.parse(self.ruta)\n",
    "            root = tree.getroot()\n",
    "            \n",
    "            xml_list = []\n",
    "            for child in root:\n",
    "                xml_dict = {}\n",
    "                for subchild in child:\n",
    "                    xml_dict[subchild.tag] = subchild.text\n",
    "                    xml_list.append(xml_dict) # Es una lista que contiene diccionarios\n",
    "            return xml_list\n",
    "    \n",
    "        \n",
    "    def limpieza_xml(self, xml_list):\n",
    "\n",
    "        self.xml_list = xml_list\n",
    "            # Con esta función, limpiamos los datos obtenidos. \n",
    "            # Como argumento, tendremos que darle la variable creada con el método lectura_xml.\n",
    "            \n",
    "        for c in xml_list:\n",
    "            \n",
    "            if c[\"gender\"] == \"0\":\n",
    "                c[\"gender\"] = \"man\"\n",
    "            \n",
    "            elif c[\"gender\"] == \"1\":\n",
    "                c[\"gender\"] = \"woman\"\n",
    "        \n",
    "            elif c[\"gender\"] == \"2\":\n",
    "                c[\"gender\"] = \"nonbinary\"\n",
    "        \n",
    "            elif c[\"gender\"] == \"3\":\n",
    "                c[\"gender\"] = \"prefer not to say\"\n",
    "            \n",
    "            elif c[\"gender\"] == \"4\":\n",
    "                c[\"gender\"] = \"prefer to self-describe\"\n",
    "\n",
    "        return xml_list\n",
    "\n",
    "\n",
    "    def eliminar_columna(self, xml_limpio):\n",
    "\n",
    "        self.xml_limpio = xml_limpio\n",
    "            # Con esta función, eliminamos la primera columna, puesto que resulta redundante.\n",
    "            # Como argumento, tendremos que darle la variable creada con el método limpieza_xml.\n",
    "        try:\n",
    "            for a in xml_limpio:\n",
    "             a.pop(\"level_0\")\n",
    "\n",
    "        except: pass\n",
    "        return xml_limpio\n",
    "\n",
    "    \n",
    "    def conversion(self, xml_limpio):\n",
    "\n",
    "        self.xml_limpio = xml_limpio\n",
    "        xml_tuplas = []\n",
    "\n",
    "        for i in xml_limpio:\n",
    "            \n",
    "            xml_tuplas.append(tuple(i.values()))\n",
    "\n",
    "        return xml_tuplas\n",
    "\n"
   ]
  },
  {
   "cell_type": "code",
   "execution_count": 2,
   "metadata": {},
   "outputs": [],
   "source": [
    "datos_xml = Datos_xml('data_xml.xml')"
   ]
  },
  {
   "cell_type": "code",
   "execution_count": 3,
   "metadata": {},
   "outputs": [],
   "source": [
    "xml_lectura = datos_xml.lectura_xml()"
   ]
  },
  {
   "cell_type": "code",
   "execution_count": 4,
   "metadata": {},
   "outputs": [],
   "source": [
    "xml_limpio = datos_xml.limpieza_xml(xml_lectura)"
   ]
  },
  {
   "cell_type": "code",
   "execution_count": 5,
   "metadata": {},
   "outputs": [],
   "source": [
    "xml_columna = datos_xml.eliminar_columna(xml_limpio)"
   ]
  },
  {
   "cell_type": "code",
   "execution_count": 6,
   "metadata": {},
   "outputs": [],
   "source": [
    "xml_final = datos_xml.conversion(xml_columna)"
   ]
  },
  {
   "cell_type": "code",
   "execution_count": 7,
   "metadata": {},
   "outputs": [
    {
     "data": {
      "text/plain": [
       "('1', '784', '50-54', 'man')"
      ]
     },
     "execution_count": 7,
     "metadata": {},
     "output_type": "execute_result"
    }
   ],
   "source": [
    "xml_final[2]"
   ]
  },
  {
   "cell_type": "markdown",
   "metadata": {},
   "source": [
    "## Lectura del fichero TXT\n",
    "\n",
    "Nos devuelve una lista que contiene todos los elementos del archivo txt, cada elemento de la lista se toma como un único string. Cada elemento de la lista termina con \\n\n",
    "\n",
    "Ejemplo:\n",
    "\n",
    "['index_sql;Q3;Q4;Q5;Q6;Q7;Q8;Q9;Q11;Q12;Q13;Q14;Q15;Q16;Q17;Q20;Q21;Q22;Q23;Q24;Q25;Q26;Q32;Q33;Q34;Q35;Q41\\n',\n",
    " '1;Indonesia;Master’s degree;Program/Project Manager;20+ years;null, SQL, C, C++, Java;Python;null,   Notepad++  ,  Jupyter Notebook;A cloud computing platform (AWS, Azure, GCP, hosted notebooks, etc);null, None;Never; Matplotlib ;Under 1 year;  Scikit-learn ;Linear or Logistic Regression, Decision Trees or Random Forests;Manufacturing/Fabrication;1000-9,999 employees;1-2;We are exploring ML methods (and may one day put a model into production);null, Build and/or run the data infrastructure that my business uses for storing, analyzing, and operationalizing data;60,000-69,999;$0 ($USD);;;;;Advanced statistical software (SPSS, SAS, etc.)\\n',\n",
    " '2;Pakistan;Master’s degree;Software Engineer;1-3 years;Python, C++, Java;Python;null,  PyCharm ,  Jupyter Notebook, Other;A laptop;null, Other;Never; Matplotlib ;I do not use machine learning methods;;;Academics/Education;1000-9,999 employees;0;I do not know;null, None of these activities are an important part of my role at work;$0-999;$0 ($USD);MySQL , MongoDB ;MySQL ;null, None;;Basic statistical software (Microsoft Excel, Google Sheets, etc.)\\n',\n",
    " '3;Mexico;Doctoral degree;Research Scientist;20+ years;Python;Python;null,   Spyder  ,  Jupyter Notebook;A cloud computing platform (AWS, Azure, GCP, hosted notebooks, etc); NVIDIA GPUs ;More than 25 times; Matplotlib ;5-10 years;  Scikit-learn ,   TensorFlow ,  Keras ;null, Dense Neural Networks (MLPs, etc), Convolutional Neural Networks, Recurrent Neural Networks;Academics/Education;1000-9,999 employees;0;I do not know;null, Do research that advances the state of the art of machine learning;30,000-39,999;$0 ($USD);;;;;Local development environments (RStudio, JupyterLab, etc.)\\n',\n",
    "\n",
    "\n",
    "> Recomendación: Aprender a tratar los datos de algunos de los elementos de la lista, antes de intentar aplicarlo a todos los datos del fichero txt.\n",
    " - Primer elemento de la lista:\n",
    "    lista[0] = 'index_sql;Q3;Q4;Q5;Q6;Q7;Q8;Q9;Q11;Q12;Q13;Q14;Q15;Q16;Q17;Q20;Q21;Q22;Q23;Q24;Q25;Q26;Q32;Q33;Q34;Q35;Q41\\n'"
   ]
  },
  {
   "cell_type": "code",
   "execution_count": 4,
   "metadata": {},
   "outputs": [],
   "source": [
    "with open('data_txt_reorder.txt','r') as file:\n",
    "    file_source = file.readlines() # Es una lista que cada línea del fichero txt como un string de todos los datos."
   ]
  },
  {
   "cell_type": "code",
   "execution_count": 5,
   "metadata": {},
   "outputs": [],
   "source": [
    "# Cambiamos los 'null' por 'NULL':\n",
    "new_list = []\n",
    "for z in file_source:\n",
    "    resultado = z.replace('null', 'NULL')\n",
    "    new_list.append(resultado)"
   ]
  },
  {
   "cell_type": "code",
   "execution_count": 23,
   "metadata": {},
   "outputs": [],
   "source": [
    "def cambiar_null(a):\n",
    "    new_list = []\n",
    "    for z in a:\n",
    "        resultado = z.replace('null', 'NULL')\n",
    "        new_list.append(resultado)\n",
    "    return new_list"
   ]
  },
  {
   "cell_type": "code",
   "execution_count": 6,
   "metadata": {},
   "outputs": [],
   "source": [
    "# Cambiamos los '<' por 'under':\n",
    "new_list2 = []\n",
    "for y in new_list:\n",
    "    resultado = y.replace('<', ' under')\n",
    "    new_list2.append(resultado)"
   ]
  },
  {
   "cell_type": "code",
   "execution_count": 27,
   "metadata": {},
   "outputs": [],
   "source": [
    "def cambiar_under(a):\n",
    "    new_list = []\n",
    "    for z in a:\n",
    "        resultado = z.replace('<', 'under')\n",
    "        new_list.append(resultado)\n",
    "    return new_list"
   ]
  },
  {
   "cell_type": "code",
   "execution_count": 7,
   "metadata": {},
   "outputs": [],
   "source": [
    "# Eliminamos los saltos de línea:\n",
    "new_list3 = []\n",
    "for x in new_list2:\n",
    "    resultado = x.replace('\\n', '')\n",
    "    new_list3.append(resultado)"
   ]
  },
  {
   "cell_type": "code",
   "execution_count": null,
   "metadata": {},
   "outputs": [],
   "source": [
    "def eliminar_saltos(a):\n",
    "    new_list = []\n",
    "    for z in a:\n",
    "        resultado = z.replace('\\n', '')\n",
    "        new_list.append(resultado)\n",
    "    return new_list"
   ]
  },
  {
   "cell_type": "code",
   "execution_count": 8,
   "metadata": {},
   "outputs": [],
   "source": [
    "# Eliminamos los espacios dobles:\n",
    "new_list4 = []\n",
    "for v in new_list3:\n",
    "    resultado = v.replace(\"  \", \" \")\n",
    "    new_list4.append(resultado)"
   ]
  },
  {
   "cell_type": "code",
   "execution_count": null,
   "metadata": {},
   "outputs": [],
   "source": [
    "def eliminar_espacios(a):\n",
    "    new_list = []\n",
    "    for z in a:\n",
    "        resultado = z.replace('  ', ' ')\n",
    "        new_list.append(resultado)\n",
    "    return new_list"
   ]
  },
  {
   "cell_type": "code",
   "execution_count": 100,
   "metadata": {},
   "outputs": [],
   "source": [
    "class Datos_txt:\n",
    "# Esta clase servirá para leer y limpiar los ficheros txt.\n",
    "# Solo tenemos que darle la ruta donde se encuentra nuestro archivo.\n",
    "\n",
    "    def __init__ (self, ruta):\n",
    "\n",
    "        self.ruta = ruta\n",
    "\n",
    "# Este método abre nuestro archivo para poder empezar a trabajar con él.\n",
    "\n",
    "    def lectura_txt(self):\n",
    "\n",
    "        import re\n",
    "        import os\n",
    "        \n",
    "        with open(self.ruta,'r') as file:\n",
    "            txt_list = file.readlines() \n",
    "            \n",
    "        return txt_list\n",
    "\n",
    "    def cambiar_null(self, txt_list):\n",
    "        \n",
    "        self.txt_list = txt_list\n",
    "        txt_null = []\n",
    "    \n",
    "        for z in txt_list:\n",
    "            resultado = z.replace('null', 'NULL')\n",
    "            txt_null.append(resultado)\n",
    "        return txt_null\n",
    "        \n",
    "        \n",
    "    def cambiar_under(self, txt_null):\n",
    "        \n",
    "        self.txt_null = txt_null\n",
    "        \n",
    "        txt_under = []\n",
    "        for z in txt_null:\n",
    "            resultado = z.replace('<', 'under')\n",
    "            txt_under.append(resultado)\n",
    "        return txt_under\n",
    "        \n",
    "    \n",
    "    def eliminar_saltos(self, txt_under):\n",
    "        \n",
    "        self.txt_under = txt_under\n",
    "        \n",
    "        txt_saltos = []\n",
    "        for z in txt_under:\n",
    "            resultado = z.replace('\\n', '')\n",
    "            txt_saltos.append(resultado)\n",
    "        return txt_saltos\n",
    "\n",
    "\n",
    "    def eliminar_espacios(self, txt_saltos):\n",
    "        \n",
    "        self.txt_saltos = txt_saltos\n",
    "        \n",
    "        txt_espacios = []\n",
    "        for z in txt_saltos:\n",
    "            resultado = z.replace('  ', ' ')\n",
    "            txt_espacios.append(resultado)\n",
    "        return txt_espacios\n",
    "\n",
    "    def str_int(self, txt_espacios):\n",
    "\n",
    "        self.txt_espacios = txt_espacios\n",
    "\n",
    "        for x in range[1::]:\n",
    "            \n",
    "            if x[0] == str:\n",
    "               x[0] == int\n",
    "\n",
    "\n",
    "    def conversion(self, lista_final):\n",
    "\n",
    "        self.txt_espacios = txt_espacios\n",
    "        lista_values = []\n",
    "\n",
    "        for x in txt_espacios:\n",
    "\n",
    "            \n",
    "            value = tuple(x.split(\";\"))\n",
    "            lista_values.append(value)\n",
    "\n",
    "        return lista_values\n"
   ]
  },
  {
   "cell_type": "code",
   "execution_count": 101,
   "metadata": {},
   "outputs": [],
   "source": [
    "datos_txt = Datos_txt('data_txt_reorder.txt')"
   ]
  },
  {
   "cell_type": "code",
   "execution_count": 102,
   "metadata": {},
   "outputs": [],
   "source": [
    "lectura_txt = datos_txt.lectura_txt()"
   ]
  },
  {
   "cell_type": "code",
   "execution_count": 103,
   "metadata": {},
   "outputs": [],
   "source": [
    "txt_null = datos_txt.cambiar_null(lectura_txt)"
   ]
  },
  {
   "cell_type": "code",
   "execution_count": 104,
   "metadata": {},
   "outputs": [],
   "source": [
    "txt_under = datos_txt.cambiar_under(txt_null)"
   ]
  },
  {
   "cell_type": "code",
   "execution_count": 105,
   "metadata": {},
   "outputs": [],
   "source": [
    "txt_saltos = datos_txt.eliminar_saltos(txt_under)"
   ]
  },
  {
   "cell_type": "code",
   "execution_count": 106,
   "metadata": {},
   "outputs": [],
   "source": [
    "txt_espacios = datos_txt.eliminar_espacios(txt_saltos)"
   ]
  },
  {
   "cell_type": "code",
   "execution_count": 107,
   "metadata": {},
   "outputs": [
    {
     "ename": "TypeError",
     "evalue": "'type' object is not subscriptable",
     "output_type": "error",
     "traceback": [
      "\u001b[0;31m---------------------------------------------------------------------------\u001b[0m",
      "\u001b[0;31mTypeError\u001b[0m                                 Traceback (most recent call last)",
      "\u001b[0;32m/var/folders/q5/d6h10gfs1b33l8qy7mdmhspw0000gq/T/ipykernel_51103/1443411858.py\u001b[0m in \u001b[0;36m<module>\u001b[0;34m\u001b[0m\n\u001b[0;32m----> 1\u001b[0;31m \u001b[0mtxt_int\u001b[0m \u001b[0;34m=\u001b[0m \u001b[0mdatos_txt\u001b[0m\u001b[0;34m.\u001b[0m\u001b[0mstr_int\u001b[0m\u001b[0;34m(\u001b[0m\u001b[0mtxt_espacios\u001b[0m\u001b[0;34m)\u001b[0m\u001b[0;34m\u001b[0m\u001b[0;34m\u001b[0m\u001b[0m\n\u001b[0m",
      "\u001b[0;32m/var/folders/q5/d6h10gfs1b33l8qy7mdmhspw0000gq/T/ipykernel_51103/674167510.py\u001b[0m in \u001b[0;36mstr_int\u001b[0;34m(self, txt_espacios)\u001b[0m\n\u001b[1;32m     66\u001b[0m         \u001b[0mself\u001b[0m\u001b[0;34m.\u001b[0m\u001b[0mtxt_espacios\u001b[0m \u001b[0;34m=\u001b[0m \u001b[0mtxt_espacios\u001b[0m\u001b[0;34m\u001b[0m\u001b[0;34m\u001b[0m\u001b[0m\n\u001b[1;32m     67\u001b[0m \u001b[0;34m\u001b[0m\u001b[0m\n\u001b[0;32m---> 68\u001b[0;31m         \u001b[0;32mfor\u001b[0m \u001b[0mx\u001b[0m \u001b[0;32min\u001b[0m \u001b[0mrange\u001b[0m\u001b[0;34m[\u001b[0m\u001b[0;36m1\u001b[0m\u001b[0;34m:\u001b[0m\u001b[0;34m:\u001b[0m\u001b[0;34m]\u001b[0m\u001b[0;34m:\u001b[0m\u001b[0;34m\u001b[0m\u001b[0;34m\u001b[0m\u001b[0m\n\u001b[0m\u001b[1;32m     69\u001b[0m \u001b[0;34m\u001b[0m\u001b[0m\n\u001b[1;32m     70\u001b[0m             \u001b[0;32mif\u001b[0m \u001b[0mx\u001b[0m\u001b[0;34m[\u001b[0m\u001b[0;36m0\u001b[0m\u001b[0;34m]\u001b[0m \u001b[0;34m==\u001b[0m \u001b[0mstr\u001b[0m\u001b[0;34m:\u001b[0m\u001b[0;34m\u001b[0m\u001b[0;34m\u001b[0m\u001b[0m\n",
      "\u001b[0;31mTypeError\u001b[0m: 'type' object is not subscriptable"
     ]
    }
   ],
   "source": [
    "txt_int = datos_txt.str_int(txt_espacios)"
   ]
  },
  {
   "cell_type": "code",
   "execution_count": 82,
   "metadata": {},
   "outputs": [],
   "source": [
    "txt_final = datos_txt.conversion(txt_espacios)"
   ]
  },
  {
   "cell_type": "code",
   "execution_count": 74,
   "metadata": {},
   "outputs": [
    {
     "ename": "TypeError",
     "evalue": "'type' object is not subscriptable",
     "output_type": "error",
     "traceback": [
      "\u001b[0;31m---------------------------------------------------------------------------\u001b[0m",
      "\u001b[0;31mTypeError\u001b[0m                                 Traceback (most recent call last)",
      "\u001b[0;32m/var/folders/q5/d6h10gfs1b33l8qy7mdmhspw0000gq/T/ipykernel_51103/4150196080.py\u001b[0m in \u001b[0;36m<module>\u001b[0;34m\u001b[0m\n\u001b[0;32m----> 1\u001b[0;31m \u001b[0mtxt_int\u001b[0m \u001b[0;34m=\u001b[0m \u001b[0mdatos_txt\u001b[0m\u001b[0;34m.\u001b[0m\u001b[0mstr_int\u001b[0m\u001b[0;34m(\u001b[0m\u001b[0mtxt_final\u001b[0m\u001b[0;34m)\u001b[0m\u001b[0;34m\u001b[0m\u001b[0;34m\u001b[0m\u001b[0m\n\u001b[0m",
      "\u001b[0;32m/var/folders/q5/d6h10gfs1b33l8qy7mdmhspw0000gq/T/ipykernel_51103/2820218278.py\u001b[0m in \u001b[0;36mstr_int\u001b[0;34m(self, lista_values)\u001b[0m\n\u001b[1;32m     79\u001b[0m         \u001b[0mself\u001b[0m\u001b[0;34m.\u001b[0m\u001b[0mlista_values\u001b[0m \u001b[0;34m=\u001b[0m \u001b[0mlista_values\u001b[0m\u001b[0;34m\u001b[0m\u001b[0;34m\u001b[0m\u001b[0m\n\u001b[1;32m     80\u001b[0m \u001b[0;34m\u001b[0m\u001b[0m\n\u001b[0;32m---> 81\u001b[0;31m         \u001b[0;32mfor\u001b[0m \u001b[0mx\u001b[0m \u001b[0;32min\u001b[0m \u001b[0mrange\u001b[0m\u001b[0;34m[\u001b[0m\u001b[0;36m1\u001b[0m\u001b[0;34m:\u001b[0m\u001b[0mlen\u001b[0m\u001b[0;34m(\u001b[0m\u001b[0mlista_values\u001b[0m\u001b[0;34m)\u001b[0m\u001b[0;34m]\u001b[0m\u001b[0;34m:\u001b[0m\u001b[0;34m\u001b[0m\u001b[0;34m\u001b[0m\u001b[0m\n\u001b[0m\u001b[1;32m     82\u001b[0m             \u001b[0mlista_final\u001b[0m \u001b[0;34m=\u001b[0m \u001b[0mint\u001b[0m\u001b[0;34m(\u001b[0m\u001b[0mx\u001b[0m\u001b[0;34m[\u001b[0m\u001b[0;36m0\u001b[0m\u001b[0;34m]\u001b[0m\u001b[0;34m)\u001b[0m\u001b[0;34m\u001b[0m\u001b[0;34m\u001b[0m\u001b[0m\n",
      "\u001b[0;31mTypeError\u001b[0m: 'type' object is not subscriptable"
     ]
    }
   ],
   "source": [
    "txt_int = datos_txt.str_int(txt_final)"
   ]
  },
  {
   "cell_type": "code",
   "execution_count": 65,
   "metadata": {},
   "outputs": [
    {
     "data": {
      "text/plain": [
       "('index_sql',\n",
       " 'Q3',\n",
       " 'Q4',\n",
       " 'Q5',\n",
       " 'Q6',\n",
       " 'Q7',\n",
       " 'Q8',\n",
       " 'Q9',\n",
       " 'Q11',\n",
       " 'Q12',\n",
       " 'Q13',\n",
       " 'Q14',\n",
       " 'Q15',\n",
       " 'Q16',\n",
       " 'Q17',\n",
       " 'Q20',\n",
       " 'Q21',\n",
       " 'Q22',\n",
       " 'Q23',\n",
       " 'Q24',\n",
       " 'Q25',\n",
       " 'Q26',\n",
       " 'Q32',\n",
       " 'Q33',\n",
       " 'Q34',\n",
       " 'Q35',\n",
       " 'Q41')"
      ]
     },
     "execution_count": 65,
     "metadata": {},
     "output_type": "execute_result"
    }
   ],
   "source": [
    "txt_final[0]"
   ]
  },
  {
   "cell_type": "code",
   "execution_count": 23,
   "metadata": {},
   "outputs": [],
   "source": [
    "import mysql.connector"
   ]
  },
  {
   "cell_type": "code",
   "execution_count": 43,
   "metadata": {},
   "outputs": [],
   "source": [
    "class Insertar_datos:\n",
    "# Esta clase servirá insertar los datos en nuestra BBDD:\n",
    "# Solo tenemos que darle la variable con las values, y el nombre de la tabla:\n",
    "\n",
    "    import mysql.connector\n",
    "\n",
    "    def __init__ (self, datos, tabla, columnas):\n",
    "\n",
    "        self.datos = datos\n",
    "        self.tabla = tabla\n",
    "        self.columnas = columnas \n",
    "\n",
    "# Este método inserta nuestros datos en la BBDD:\n",
    "\n",
    "    def insercion(self, datos, tabla, columnas):\n",
    "        \n",
    "        \n",
    "        self.datos = datos\n",
    "        self.tabla = tabla\n",
    "        self.columnas = columnas \n",
    "\n",
    "        \n",
    "        cnx = mysql.connector.connect(user='root', password='AlumnaAdalab',\n",
    "                              host='127.0.0.1', database= 'proyecto_1_team_1')\n",
    "\n",
    "\n",
    "        mycursor = cnx.cursor()\n",
    "        sql = f\"INSERT INTO {self.tabla} ({self.columnas}) VALUES (%s)\"\n",
    "        val = self.datos\n",
    "\n",
    "        try: \n",
    "            mycursor.executemany(sql, val)\n",
    "            cnx.commit()\n",
    "            print(mycursor.rowcount, \"registro insertado.\")\n",
    "\n",
    "        except mysql.connector.Error as err:\n",
    "            print(err)\n",
    "            print(\"Error Code:\", err.errno)\n",
    "            print(\"SQLSTATE\", err.sqlstate)\n",
    "            print(\"Message\", err.msg)"
   ]
  },
  {
   "cell_type": "code",
   "execution_count": 46,
   "metadata": {},
   "outputs": [],
   "source": [
    "insertar_datos = Insertar_datos(xml_final, 'tabla_xml', ('index_xml, time, age, gender, index_sql'))"
   ]
  },
  {
   "cell_type": "code",
   "execution_count": 47,
   "metadata": {},
   "outputs": [
    {
     "name": "stdout",
     "output_type": "stream",
     "text": [
      "Not all parameters were used in the SQL statement\n",
      "Error Code: -1\n",
      "SQLSTATE None\n",
      "Message Not all parameters were used in the SQL statement\n"
     ]
    }
   ],
   "source": [
    "insertar_datos.insercion(xml_final, 'tabla_xml', ('index_xml, time, age, gender, index_sql'))"
   ]
  },
  {
   "cell_type": "code",
   "execution_count": 17,
   "metadata": {},
   "outputs": [],
   "source": [
    "import re\n",
    "import os\n",
    "import xml.etree.ElementTree as ET\n",
    "import mysql.connector\n",
    "import pandas as pd"
   ]
  },
  {
   "cell_type": "code",
   "execution_count": 30,
   "metadata": {},
   "outputs": [],
   "source": [
    "class Insertar_datos_2:\n",
    "# Esta clase servirá insertar los datos en nuestra BBDD:\n",
    "# Solo tenemos que darle la variable con las values, y el nombre de la tabla:\n",
    "\n",
    "    import mysql.connector\n",
    "\n",
    "    def __init__ (self, datos):\n",
    "\n",
    "        self.datos = datos\n",
    "\n",
    "# Este método inserta nuestros datos en la BBDD:\n",
    "\n",
    "    def insercion_xml(self):\n",
    "    \n",
    "        cnx = mysql.connector.connect(user='root', password='AlumnaAdalab',\n",
    "                              host='127.0.0.1', database= 'proyecto_1_team_1')\n",
    "\n",
    "        mycursor = cnx.cursor()\n",
    "\n",
    "        sql = \"\"\"INSERT INTO datos_xml (index_sql, time, age, gender) VALUES (%s, %s, %s, %s, %s)\"\"\"\n",
    "\n",
    "        try: \n",
    "            mycursor.executemany(sql, self.datos)\n",
    "            cnx.commit()\n",
    "            print(mycursor.rowcount, \"registro insertado.\")\n",
    "\n",
    "        except mysql.connector.Error as err:\n",
    "            print(err)\n",
    "            print(\"Error Code:\", err.errno)\n",
    "            print(\"SQLSTATE\", err.sqlstate)\n",
    "            print(\"Message\", err.msg)\n",
    "\n",
    "        return mycursor.close()"
   ]
  },
  {
   "cell_type": "code",
   "execution_count": 31,
   "metadata": {},
   "outputs": [],
   "source": [
    "insertar_datos_2 = Insertar_datos_2(xml_final)"
   ]
  },
  {
   "cell_type": "code",
   "execution_count": 32,
   "metadata": {},
   "outputs": [
    {
     "name": "stdout",
     "output_type": "stream",
     "text": [
      "Not enough parameters for the SQL statement\n",
      "Error Code: -1\n",
      "SQLSTATE None\n",
      "Message Not enough parameters for the SQL statement\n"
     ]
    },
    {
     "data": {
      "text/plain": [
       "True"
      ]
     },
     "execution_count": 32,
     "metadata": {},
     "output_type": "execute_result"
    }
   ],
   "source": [
    "insertar_datos_2.insercion_xml()"
   ]
  },
  {
   "cell_type": "code",
   "execution_count": 40,
   "metadata": {},
   "outputs": [],
   "source": [
    "class Insertar_datos_3:\n",
    "# Esta clase servirá insertar los datos en nuestra BBDD:\n",
    "# Solo tenemos que darle la variable con las values, y el nombre de la tabla:\n",
    "\n",
    "    import mysql.connector\n",
    "\n",
    "    def __init__ (self, datos):\n",
    "\n",
    "        self.datos = datos\n",
    "\n",
    "# Este método inserta nuestros datos en la BBDD:\n",
    "\n",
    "    def insercion_txt(self, datos):\n",
    "    \n",
    "        cnx = mysql.connector.connect(user='root', password='AlumnaAdalab',\n",
    "                              host='127.0.0.1', database= 'proyecto_1_team_1')\n",
    "\n",
    "        mycursor = cnx.cursor()\n",
    "\n",
    "        sql = \"\"\"INSERT INTO datos_txt (index_sql, q3, q4, q5, q6, q7, q8, q9, q11, q12, q13, q14, q15, q16, q17, q20, q21, q22, q23, q24, q25, q26, q32, q33, q34, q35, q41) VALUES (%s, %s, %s, %s, %s, %s, %s, %s, %s, %s, %s, %s, %s, %s, %s, %s, %s, %s, %s, %s, %s, %s, %s, %s, %s, %s, %s)\"\"\"\n",
    "        val = (datos)\n",
    "\n",
    "        try: \n",
    "            mycursor.executemany(sql, self.datos)\n",
    "            cnx.commit()\n",
    "            print(mycursor.rowcount, \"registro insertado.\")\n",
    "\n",
    "        except mysql.connector.Error as err:\n",
    "            print(err)\n",
    "            print(\"Error Code:\", err.errno)\n",
    "            print(\"SQLSTATE\", err.sqlstate)\n",
    "            print(\"Message\", err.msg)\n",
    "\n",
    "        return mycursor.close()"
   ]
  },
  {
   "cell_type": "code",
   "execution_count": 41,
   "metadata": {},
   "outputs": [],
   "source": [
    "insertar_datos_3 = Insertar_datos_3(txt_final)"
   ]
  },
  {
   "cell_type": "code",
   "execution_count": 42,
   "metadata": {},
   "outputs": [
    {
     "name": "stdout",
     "output_type": "stream",
     "text": [
      "1366 (HY000): Incorrect integer value: 'index_sql' for column 'index_sql' at row 1\n",
      "Error Code: 1366\n",
      "SQLSTATE HY000\n",
      "Message Incorrect integer value: 'index_sql' for column 'index_sql' at row 1\n"
     ]
    },
    {
     "data": {
      "text/plain": [
       "True"
      ]
     },
     "execution_count": 42,
     "metadata": {},
     "output_type": "execute_result"
    }
   ],
   "source": [
    "insertar_datos_3.insercion_txt(txt_final)"
   ]
  }
 ],
 "metadata": {
  "kernelspec": {
   "display_name": "Python 3.9.7 ('base')",
   "language": "python",
   "name": "python3"
  },
  "language_info": {
   "codemirror_mode": {
    "name": "ipython",
    "version": 3
   },
   "file_extension": ".py",
   "mimetype": "text/x-python",
   "name": "python",
   "nbconvert_exporter": "python",
   "pygments_lexer": "ipython3",
   "version": "3.9.7"
  },
  "orig_nbformat": 4,
  "vscode": {
   "interpreter": {
    "hash": "a132548e790cb25f951c67ed157520233be95043d6eb3836371ed4d98e90df31"
   }
  }
 },
 "nbformat": 4,
 "nbformat_minor": 2
}
