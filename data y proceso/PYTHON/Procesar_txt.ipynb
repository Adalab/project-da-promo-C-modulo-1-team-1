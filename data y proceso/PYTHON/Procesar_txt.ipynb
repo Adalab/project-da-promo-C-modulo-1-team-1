{
 "cells": [
  {
   "cell_type": "code",
   "execution_count": 35,
   "metadata": {},
   "outputs": [],
   "source": [
    "import re\n",
    "import os\n",
    "import xml.etree.ElementTree as ET\n",
    "import mysql.connector\n",
    "import pandas as pd"
   ]
  },
  {
   "cell_type": "code",
   "execution_count": 36,
   "metadata": {},
   "outputs": [],
   "source": [
    "class Datos_txt:\n",
    "# Esta clase creará una instancia para la lectura y limpieza de los ficheros.txt.\n",
    "# Como argumento recibirá el nombre del fichero.\n",
    "    \n",
    "    def __init__ (self,txt):\n",
    "\n",
    "        self.txt=txt\n",
    "        \n",
    "#Función para leer el archivo txt   \n",
    "    def abrir_txt(self):\n",
    "    \n",
    "        with open(f'{self.txt}','r') as file:\n",
    "            file_txt = file.readlines() # Es una lista que cada línea del fichero txt como un string de todos los datos.\n",
    "        \n",
    "        return file_txt\n",
    "\n",
    "# Con esta función se limpian y preparan los datos para su inserción:\n",
    "# Como parámetro recibe la variable creada con el método abrir_txt.\n",
    "\n",
    "    def limpieza_txt(self,lista):\n",
    "        \n",
    "            for i in lista:\n",
    "                lista[lista.index(i)] = lista[lista.index(i)].replace(\"null\",\"NULL\").replace(\"<\",\"under\").replace(\"\\n\",\"\").split(\";\")\n",
    "      \n",
    "            for i in lista:\n",
    "                for n in i:\n",
    "                    i[i.index(n)] = n.strip()\n",
    "            contador = 0\n",
    "            for i in lista:\n",
    "                i.insert(1,contador)\n",
    "                contador +=1\n",
    "                try:\n",
    "                    i[0] = int(i[0])\n",
    "                except:\n",
    "                    continue\n",
    "            \n",
    "            tupla_txt = [tuple(i) for i in lista]\n",
    "            \n",
    "            tupla_txt.pop(0)\n",
    "            \n",
    "            return tupla_txt\n"
   ]
  },
  {
   "cell_type": "code",
   "execution_count": 37,
   "metadata": {},
   "outputs": [],
   "source": [
    "# Creación de instancia\n",
    "datos_txt = Datos_txt('data_txt.txt')"
   ]
  },
  {
   "cell_type": "code",
   "execution_count": 38,
   "metadata": {},
   "outputs": [],
   "source": [
    "# Aplicación del método para abrir y leer a la instancia\n",
    "lectura_txt = datos_txt.abrir_txt()"
   ]
  },
  {
   "cell_type": "code",
   "execution_count": 39,
   "metadata": {},
   "outputs": [],
   "source": [
    "# Aplicación del método de limpieza a la instancia, da lugar al archivo limpio con los datos a insertar\n",
    "txt_limpios = datos_txt.limpieza_txt(lectura_txt)"
   ]
  },
  {
   "cell_type": "code",
   "execution_count": 40,
   "metadata": {},
   "outputs": [],
   "source": [
    "class Insertar_datos_txt:\n",
    "# Esta clase creará una instancia para la inserción de los datos limpios de los arhivos .txt.\n",
    "# Como argumento recibirá el nombre del archivo de xml limpio (txt_limpios).\n",
    "\n",
    "    def __init__ (self,txt):\n",
    "       \n",
    "        self.txt = txt\n",
    "\n",
    "    def insertar_datos_txt(self):\n",
    "    # Con esta función se insertan los datos limpios del fichero txt en la tabla data_txt de la Base de datos.\n",
    "    # No requiere parámetro.\n",
    "        cnx = mysql.connector.connect(user='root', password='AlumnaAdalab',\n",
    "                                    host='127.0.0.1', database='proyecto_1_equipo_1')\n",
    "        mycursor = cnx.cursor()\n",
    "\n",
    "        datos = \"\"\" INSERT INTO data_txt(index_txt, index_sql, q3, q4, q5, q6, q7, q8, q9, q11, q12, q13, q14, q15, q16, q17, q20, q21, q22, q23, q24, q25, q26, q32, q33, q34, q35, q41 ) \n",
    "                                VALUES (%s,%s,%s,%s,%s,%s,%s,%s,%s,%s,%s,%s,%s,%s,%s,%s,%s,%s,%s,%s,%s,%s,%s,%s,%s,%s,%s,%s)\"\"\"\n",
    "        \n",
    "        \n",
    "        try:\n",
    "            mycursor.execute(\"SET FOREIGN_KEY_CHECKS=0;\") # Se desactiva temporalmente la foreign key\n",
    "            mycursor.executemany(datos, self.txt)\n",
    "            cnx.commit()\n",
    "            print(mycursor.rowcount, \"registro/s insertado/s.\")\n",
    "            mycursor.execute(\"SET FOREIGN_KEY_CHECKS=1;\") # Se reactiva la foreign key\n",
    "        \n",
    "        except mysql.connector.Error as err:\n",
    "            print(err)\n",
    "            print(\"Error Code:\", err.errno)\n",
    "            print(\"SQLSTATE\", err.sqlstate)\n",
    "            print(\"Message\", err.msg)\n",
    "    "
   ]
  },
  {
   "cell_type": "code",
   "execution_count": 41,
   "metadata": {},
   "outputs": [],
   "source": [
    "insercion_txt = Insertar_datos_txt(txt_limpios)"
   ]
  },
  {
   "cell_type": "code",
   "execution_count": 42,
   "metadata": {},
   "outputs": [
    {
     "name": "stdout",
     "output_type": "stream",
     "text": [
      "25972 registro/s insertado/s.\n"
     ]
    }
   ],
   "source": [
    "insercion_txt.insertar_datos_txt()"
   ]
  }
 ],
 "metadata": {
  "kernelspec": {
   "display_name": "Python 3.9.7 ('base')",
   "language": "python",
   "name": "python3"
  },
  "language_info": {
   "codemirror_mode": {
    "name": "ipython",
    "version": 3
   },
   "file_extension": ".py",
   "mimetype": "text/x-python",
   "name": "python",
   "nbconvert_exporter": "python",
   "pygments_lexer": "ipython3",
   "version": "3.9.7"
  },
  "orig_nbformat": 4,
  "vscode": {
   "interpreter": {
    "hash": "b3191f930eabfdf0eb39086a24df618ea48425015dbb471465fb2c793fed20fd"
   }
  }
 },
 "nbformat": 4,
 "nbformat_minor": 2
}
