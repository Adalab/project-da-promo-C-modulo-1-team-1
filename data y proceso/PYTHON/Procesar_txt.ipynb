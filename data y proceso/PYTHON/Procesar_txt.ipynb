{
 "cells": [
  {
   "cell_type": "code",
   "execution_count": 44,
   "metadata": {},
   "outputs": [],
   "source": [
    "import re\n",
    "import os\n",
    "import xml.etree.ElementTree as ET\n",
    "import mysql.connector\n",
    "import pandas as pd"
   ]
  },
  {
   "cell_type": "code",
   "execution_count": 65,
   "metadata": {},
   "outputs": [],
   "source": [
    "class Datos_txt:\n",
    "# Esta clase creará una instancia para la lectura y limpieza de los ficheros.txt.\n",
    "# Como argumento recibirá el nombre del fichero.\n",
    "    \n",
    "    def __init__ (self,txt):\n",
    "\n",
    "        self.txt=txt\n",
    "        \n",
    "#Función para leer el archivo txt   \n",
    "    def abrir_txt(self):\n",
    "    \n",
    "        with open(f'{self.txt}','r') as file:\n",
    "            file_txt = file.readlines() # Es una lista que cada línea del fichero txt como un string de todos los datos.\n",
    "        \n",
    "        return file_txt\n",
    "\n",
    "# Con esta función se limpian y preparan los datos para su inserción:\n",
    "# Como parámetro recibe la variable creada con el método abrir_txt.\n",
    "\n",
    "    def limpieza_txt(self,lista):\n",
    "        \n",
    "            for i in lista:\n",
    "                lista[lista.index(i)] = lista[lista.index(i)].replace(\"null\",\"NULL\").replace(\"<\",\"under\").replace(\"\\n\",\"\").split(\";\")\n",
    "      \n",
    "            for i in lista:\n",
    "                for n in i:\n",
    "                    i[i.index(n)] = n.strip()\n",
    "            contador = 0\n",
    "            for i in lista:\n",
    "                i.insert(1,contador)\n",
    "                contador +=1\n",
    "                try:\n",
    "                    i[0] = int(i[0])\n",
    "                except:\n",
    "                    continue\n",
    "            \n",
    "            tupla_txt = [tuple(i) for i in lista]\n",
    "            \n",
    "            tupla_txt.pop(0)\n",
    "            \n",
    "            return tupla_txt\n"
   ]
  },
  {
   "cell_type": "code",
   "execution_count": 66,
   "metadata": {},
   "outputs": [],
   "source": [
    "# Creación de instancia\n",
    "datos_txt = Datos_txt('data_txt.txt')"
   ]
  },
  {
   "cell_type": "code",
   "execution_count": 1,
   "metadata": {},
   "outputs": [
    {
     "ename": "NameError",
     "evalue": "name 'datos_txt' is not defined",
     "output_type": "error",
     "traceback": [
      "\u001b[0;31m---------------------------------------------------------------------------\u001b[0m",
      "\u001b[0;31mNameError\u001b[0m                                 Traceback (most recent call last)",
      "\u001b[0;32m/tmp/ipykernel_1130/3064475797.py\u001b[0m in \u001b[0;36m<module>\u001b[0;34m\u001b[0m\n\u001b[1;32m      1\u001b[0m \u001b[0;31m# Aplicación del método para abrir y leer a la instancia\u001b[0m\u001b[0;34m\u001b[0m\u001b[0;34m\u001b[0m\u001b[0m\n\u001b[0;32m----> 2\u001b[0;31m \u001b[0mlectura_txt\u001b[0m \u001b[0;34m=\u001b[0m \u001b[0mdatos_txt\u001b[0m\u001b[0;34m.\u001b[0m\u001b[0mabrir_txt\u001b[0m\u001b[0;34m(\u001b[0m\u001b[0;34m)\u001b[0m\u001b[0;34m\u001b[0m\u001b[0;34m\u001b[0m\u001b[0m\n\u001b[0m",
      "\u001b[0;31mNameError\u001b[0m: name 'datos_txt' is not defined"
     ]
    }
   ],
   "source": [
    "# Aplicación del método para abrir y leer a la instancia\n",
    "lectura_txt = datos_txt.abrir_txt()"
   ]
  },
  {
   "cell_type": "code",
   "execution_count": 68,
   "metadata": {},
   "outputs": [],
   "source": [
    "# Aplicación del método de limpieza a la instancia, da lugar al archivo limpio con los datos a insertar\n",
    "txt_limpios = datos_txt.limpieza_txt(lectura_txt)"
   ]
  },
  {
   "cell_type": "code",
   "execution_count": 69,
   "metadata": {},
   "outputs": [],
   "source": [
    "class Insertar_datos_txt:\n",
    "# Esta clase creará una instancia para la inserción de los datos limpios de los arhivos .txt.\n",
    "# Como argumento recibirá el nombre del archivo de xml limpio (txt_limpios).\n",
    "\n",
    "    def __init__ (self,txt):\n",
    "       \n",
    "        self.txt = txt\n",
    "\n",
    "    def insertar_datos_txt(self):\n",
    "    # Con esta función se insertan los datos limpios del fichero txt en la tabla data_txt de la Base de datos.\n",
    "    # No requiere parámetro.\n",
    "        cnx = mysql.connector.connect(user='root', password='AlumnaAdalab',\n",
    "                                    host='127.0.0.1', database='proyecto_1_equipo_1')\n",
    "        mycursor = cnx.cursor()\n",
    "\n",
    "        datos = \"\"\" INSERT INTO data_txt(index_txt, index_sql, q3, q4, q5, q6, q7, q8, q9, q11, q12, q13, q14, q15, q16, q17, q20, q21, q22, q23, q24, q25, q26, q32, q33, q34, q35, q41 ) \n",
    "                                VALUES (%s,%s,%s,%s,%s,%s,%s,%s,%s,%s,%s,%s,%s,%s,%s,%s,%s,%s,%s,%s,%s,%s,%s,%s,%s,%s,%s,%s)\"\"\"\n",
    "        \n",
    "        \n",
    "        try:\n",
    "            mycursor.executemany(datos, self.txt)\n",
    "            cnx.commit()\n",
    "            print(mycursor.rowcount, \"registro/s insertado/s.\")\n",
    "        \n",
    "        except mysql.connector.Error as err:\n",
    "            print(err)\n",
    "            print(\"Error Code:\", err.errno)\n",
    "            print(\"SQLSTATE\", err.sqlstate)\n",
    "            print(\"Message\", err.msg)\n",
    "    "
   ]
  },
  {
   "cell_type": "code",
   "execution_count": 70,
   "metadata": {},
   "outputs": [],
   "source": [
    "insercion_txt = Insertar_datos_txt(txt_limpios)"
   ]
  },
  {
   "cell_type": "code",
   "execution_count": 71,
   "metadata": {},
   "outputs": [
    {
     "name": "stdout",
     "output_type": "stream",
     "text": [
      "25972 registro/s insertado/s.\n"
     ]
    }
   ],
   "source": [
    "insercion_txt.insertar_datos_txt()"
   ]
  }
 ],
 "metadata": {
  "kernelspec": {
   "display_name": "Python 3.9.13 ('base')",
   "language": "python",
   "name": "python3"
  },
  "language_info": {
   "codemirror_mode": {
    "name": "ipython",
    "version": 3
   },
   "file_extension": ".py",
   "mimetype": "text/x-python",
   "name": "python",
   "nbconvert_exporter": "python",
   "pygments_lexer": "ipython3",
   "version": "3.9.13"
  },
  "orig_nbformat": 4,
  "vscode": {
   "interpreter": {
    "hash": "f2104d434ce3092b7c07d5af98c90652611c7ad655b2a72b59e9e675e449bc7b"
   }
  }
 },
 "nbformat": 4,
 "nbformat_minor": 2
}
