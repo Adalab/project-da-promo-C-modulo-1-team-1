{
 "cells": [
  {
   "cell_type": "code",
   "execution_count": 44,
   "metadata": {},
   "outputs": [],
   "source": [
    "import re\n",
    "import os\n",
    "import xml.etree.ElementTree as ET\n",
    "import mysql.connector\n",
    "import pandas as pd"
   ]
  },
  {
   "cell_type": "code",
   "execution_count": 65,
   "metadata": {},
   "outputs": [],
   "source": [
    "class Datos_txt:\n",
    "    \n",
    "    def __init__ (self,txt):\n",
    "\n",
    "        self.txt=txt\n",
    "        \n",
    "#Función para leer el archivo txt\n",
    "    \n",
    "    def abrir_txt(self):\n",
    "    \n",
    "        with open(f'{self.txt}','r') as file:\n",
    "            file_txt = file.readlines() # Es una lista que cada línea del fichero txt como un string de todos los datos.\n",
    "        \n",
    "        return file_txt\n",
    "\n",
    "\n",
    "    def limpieza_txt(self,lista):\n",
    "        \n",
    "            for i in lista:\n",
    "                lista[lista.index(i)] = lista[lista.index(i)].replace(\"null\",\"NULL\").replace(\"<\",\"under\").replace(\"\\n\",\"\").split(\";\")\n",
    "      \n",
    "            for i in lista:\n",
    "                for n in i:\n",
    "                    i[i.index(n)] = n.strip()\n",
    "            contador = 0\n",
    "            for i in lista:\n",
    "                i.insert(1,contador)\n",
    "                contador +=1\n",
    "                try:\n",
    "                    i[0] = int(i[0])\n",
    "                except:\n",
    "                    continue\n",
    "            \n",
    "            tupla_txt = [tuple(i) for i in lista]\n",
    "            \n",
    "            tupla_txt.pop(0)\n",
    "            \n",
    "            return tupla_txt\n"
   ]
  },
  {
   "cell_type": "code",
   "execution_count": 66,
   "metadata": {},
   "outputs": [],
   "source": [
    "datos_txt = Datos_txt('data_txt.txt')"
   ]
  },
  {
   "cell_type": "code",
   "execution_count": 67,
   "metadata": {},
   "outputs": [],
   "source": [
    "lectura_txt = datos_txt.abrir_txt()"
   ]
  },
  {
   "cell_type": "code",
   "execution_count": 68,
   "metadata": {},
   "outputs": [],
   "source": [
    "txt_limpios = datos_txt.limpieza_txt(lectura_txt)"
   ]
  },
  {
   "cell_type": "code",
   "execution_count": 69,
   "metadata": {},
   "outputs": [],
   "source": [
    "class Insertar_datos_txt:\n",
    "    \n",
    "    def __init__ (self,txt):\n",
    "       \n",
    "        self.txt = txt\n",
    "\n",
    "    def insertar_datos_txt(self):\n",
    "        cnx = mysql.connector.connect(user='root', password='AlumnaAdalab',\n",
    "                                    host='127.0.0.1', database='proyecto_1_equipo_1')\n",
    "        mycursor = cnx.cursor()\n",
    "\n",
    "        datos = \"\"\" INSERT INTO data_txt(index_txt, index_sql, q3, q4, q5, q6, q7, q8, q9, q11, q12, q13, q14, q15, q16, q17, q20, q21, q22, q23, q24, q25, q26, q32, q33, q34, q35, q41 ) \n",
    "                                VALUES (%s,%s,%s,%s,%s,%s,%s,%s,%s,%s,%s,%s,%s,%s,%s,%s,%s,%s,%s,%s,%s,%s,%s,%s,%s,%s,%s,%s)\"\"\"\n",
    "        try:\n",
    "            mycursor.executemany(datos, self.txt)\n",
    "            cnx.commit()\n",
    "            print(mycursor.rowcount, \"registro/s insertado/s.\")\n",
    "        except mysql.connector.Error as err:\n",
    "            print(err)\n",
    "            print(\"Error Code:\", err.errno)\n",
    "            print(\"SQLSTATE\", err.sqlstate)\n",
    "            print(\"Message\", err.msg)\n",
    "    "
   ]
  },
  {
   "cell_type": "code",
   "execution_count": 70,
   "metadata": {},
   "outputs": [],
   "source": [
    "insercion_txt = Insertar_datos_txt(txt_limpios)"
   ]
  },
  {
   "cell_type": "code",
   "execution_count": 71,
   "metadata": {},
   "outputs": [
    {
     "name": "stdout",
     "output_type": "stream",
     "text": [
      "25972 registro/s insertado/s.\n"
     ]
    }
   ],
   "source": [
    "insercion_txt.insertar_datos_txt()"
   ]
  }
 ],
 "metadata": {
  "kernelspec": {
   "display_name": "Python 3.9.7 ('base')",
   "language": "python",
   "name": "python3"
  },
  "language_info": {
   "codemirror_mode": {
    "name": "ipython",
    "version": 3
   },
   "file_extension": ".py",
   "mimetype": "text/x-python",
   "name": "python",
   "nbconvert_exporter": "python",
   "pygments_lexer": "ipython3",
   "version": "3.9.7"
  },
  "orig_nbformat": 4,
  "vscode": {
   "interpreter": {
    "hash": "a132548e790cb25f951c67ed157520233be95043d6eb3836371ed4d98e90df31"
   }
  }
 },
 "nbformat": 4,
 "nbformat_minor": 2
}
