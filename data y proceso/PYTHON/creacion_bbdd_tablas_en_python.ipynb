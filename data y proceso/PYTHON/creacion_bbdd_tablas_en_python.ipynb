{
 "cells": [
  {
   "cell_type": "code",
   "execution_count": 1,
   "metadata": {},
   "outputs": [],
   "source": [
    "import re\n",
    "import os\n",
    "import xml.etree.ElementTree as ET\n",
    "import mysql.connector \n",
    "import pandas as pd"
   ]
  },
  {
   "cell_type": "code",
   "execution_count": 17,
   "metadata": {},
   "outputs": [],
   "source": [
    "def crear_bbdd(nombre_bbdd):\n",
    "    cnx = mysql.connector.connect(user='root', password='AlumnaAdalab',\n",
    "                                host='127.0.0.1')\n",
    "\n",
    "    mycursor = cnx.cursor()\n",
    "\n",
    "    sql = (f\"CREATE DATABASE {nombre_bbdd}\")\n",
    "    try:\n",
    "        mycursor.execute(sql)\n",
    "        print(f\"Se ha creado la BBDD {nombre_bbdd} correctamente.\")\n",
    "\n",
    "    except mysql.connector.Error as err:\n",
    "        print(err)\n",
    "        print(\"Error Code:\", err.errno)\n",
    "        print(\"SQLSTATE\", err.sqlstate)\n",
    "        print(\"Message\", err.msg)\n",
    "    return mycursor.close() \n",
    "    "
   ]
  },
  {
   "cell_type": "code",
   "execution_count": 18,
   "metadata": {},
   "outputs": [
    {
     "name": "stdout",
     "output_type": "stream",
     "text": [
      "1007 (HY000): Can't create database 'nueva_bbdd'; database exists\n",
      "Error Code: 1007\n",
      "SQLSTATE HY000\n",
      "Message Can't create database 'nueva_bbdd'; database exists\n"
     ]
    },
    {
     "data": {
      "text/plain": [
       "True"
      ]
     },
     "execution_count": 18,
     "metadata": {},
     "output_type": "execute_result"
    }
   ],
   "source": [
    "crear_bbdd(\"nueva_bbdd\")"
   ]
  },
  {
   "cell_type": "code",
   "execution_count": 29,
   "metadata": {},
   "outputs": [],
   "source": [
    "def crear_tablas (bbdd, tabla):\n",
    "    cnx = mysql.connector.connect(user='root', password='AlumnaAdalab',\n",
    "                                host='127.0.0.1', database= bbdd)\n",
    "    mycursor= cnx.cursor()\n",
    "\n",
    "    try:\n",
    "        mycursor.execute(tabla)\n",
    "        print(mycursor)\n",
    "    except mysql.connector.Error as err:\n",
    "        print(err)\n",
    "        print(\"Error Code:\", err.errno)\n",
    "        print(\"SQLSTATE\", err.sqlstate)\n",
    "        print(\"Message\", err.msg)\n",
    "    return mycursor.close()\n",
    "    "
   ]
  },
  {
   "cell_type": "code",
   "execution_count": 30,
   "metadata": {},
   "outputs": [],
   "source": [
    "tabla_data_sql=\"CREATE TABLE data_sql (index_sql INT NOT NULL,\\\n",
    "                                        q10_part_1 TEXT,\\\n",
    "                                        q10_part_2 TEXT,\\\n",
    "                                        q10_part_3 TEXT,\\\n",
    "                                        q10_part_4 TEXT,\\\n",
    "                                        q10_part_5 TEXT,\\\n",
    "                                        q10_part_6 TEXT,\\\n",
    "                                        q10_part_7 TEXT,\\\n",
    "                                        q10_part_8 TEXT,\\\n",
    "                                        q10_part_9 TEXT,\\\n",
    "                                        q10_part_10 TEXT,\\\n",
    "                                        q10_part_11 TEXT,\\\n",
    "                                        q10_part_12 TEXT,\\\n",
    "                                        q10_part_13 TEXT,\\\n",
    "                                        q10_part_14 TEXT,\\\n",
    "                                        q10_part_15 TEXT,\\\n",
    "                                        q10_part_16 TEXT,\\\n",
    "                                        q10_other TEXT,\\\n",
    "                                        d482xta TEXT,\\\n",
    "                                        PRIMARY KEY (index_sql))\"\n",
    "\n",
    "                                        \n",
    "tabla_data_txt=\"CREATE TABLE data_txt (index_txt INT NOT NULL AUTO_INCREMENT,\\\n",
    "                                        index_sql INT,\\\n",
    "                                        q3 TEXT (1000),\\\n",
    "                                        q4 TEXT (1000),\\\n",
    "                                        q5 TEXT (1000),\\\n",
    "                                        q6 TEXT (1000),\\\n",
    "                                        q7 TEXT (1000),\\\n",
    "                                        q8 TEXT (1000),\\\n",
    "                                        q9 TEXT (1000),\\\n",
    "                                        q11 TEXT (1000),\\\n",
    "                                        q12 TEXT (1000),\\\n",
    "                                        q13 TEXT (1000),\\\n",
    "                                        q14 TEXT (1000),\\\n",
    "                                        q15 TEXT (1000),\\\n",
    "                                        q16 TEXT (1000),\\\n",
    "                                        q17 TEXT (1000),\\\n",
    "                                        q20 TEXT (1000),\\\n",
    "                                        q21 TEXT (1000),\\\n",
    "                                        q22 TEXT (1000),\\\n",
    "                                        q23 TEXT (1000),\\\n",
    "                                        q24 TEXT (1000),\\\n",
    "                                        q25 TEXT (1000),\\\n",
    "                                        q26 TEXT (1000),\\\n",
    "                                        q32 TEXT (1000),\\\n",
    "                                        q33 TEXT (1000),\\\n",
    "                                        q34 TEXT (1000),\\\n",
    "                                        q35 TEXT (1000),\\\n",
    "                                        q41 TEXT (1000),\\\n",
    "                                        PRIMARY KEY (index_txt),\\\n",
    "                                        CONSTRAINT `fk_index_sql`\\\n",
    "                                        FOREIGN KEY (index_sql)\\\n",
    "                                        REFERENCES data_sql(index_sql))\"\n",
    "                                        \n",
    "                                        \n",
    "tabla_data_xml=\"CREATE TABLE data_xml (index_xml INT NOT NULL AUTO_INCREMENT,\\\n",
    "                                        `time` INT NOT NULL,\\\n",
    "                                        age VARCHAR (50) NOT NULL,\\\n",
    "                                        gender VARCHAR (50) NOT NULL,\\\n",
    "                                        index_sql INT NOT NULL,\\\n",
    "                                        PRIMARY KEY (index_xml),\\\n",
    "                                        CONSTRAINT `fk_data_sql`\\\n",
    "                                        FOREIGN KEY (`index_sql`)\\\n",
    "                                        REFERENCES `data_sql`(`index_sql`))\""
   ]
  },
  {
   "cell_type": "code",
   "execution_count": 31,
   "metadata": {},
   "outputs": [
    {
     "name": "stdout",
     "output_type": "stream",
     "text": [
      "MySQLCursor: CREATE TABLE data_sql (index_sql INT NOT..\n"
     ]
    },
    {
     "data": {
      "text/plain": [
       "True"
      ]
     },
     "execution_count": 31,
     "metadata": {},
     "output_type": "execute_result"
    }
   ],
   "source": [
    "crear_tablas('nueva_bbdd', tabla_data_sql)"
   ]
  }
 ],
 "metadata": {
  "kernelspec": {
   "display_name": "Python 3.9.7 ('base')",
   "language": "python",
   "name": "python3"
  },
  "language_info": {
   "codemirror_mode": {
    "name": "ipython",
    "version": 3
   },
   "file_extension": ".py",
   "mimetype": "text/x-python",
   "name": "python",
   "nbconvert_exporter": "python",
   "pygments_lexer": "ipython3",
   "version": "3.9.7"
  },
  "orig_nbformat": 4,
  "vscode": {
   "interpreter": {
    "hash": "a132548e790cb25f951c67ed157520233be95043d6eb3836371ed4d98e90df31"
   }
  }
 },
 "nbformat": 4,
 "nbformat_minor": 2
}
