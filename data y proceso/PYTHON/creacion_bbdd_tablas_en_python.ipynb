{
 "cells": [
  {
   "cell_type": "code",
   "execution_count": 6,
   "metadata": {},
   "outputs": [],
   "source": [
    "import re\n",
    "import os\n",
    "import xml.etree.ElementTree as ET\n",
    "import mysql.connector \n",
    "import pandas as pd"
   ]
  },
  {
   "cell_type": "code",
   "execution_count": 4,
   "metadata": {},
   "outputs": [],
   "source": [
    "# Esta función nos permite crear la base de datos para el cliente\n",
    "def crear_bbdd(nombre_bbdd):\n",
    "    cnx = mysql.connector.connect(user='root', password='AlumnaAdalab',\n",
    "                                host='127.0.0.1')\n",
    "\n",
    "    mycursor = cnx.cursor()\n",
    "\n",
    "    sql = (f\"CREATE DATABASE {nombre_bbdd}\")\n",
    "    try:\n",
    "        mycursor.execute(sql)\n",
    "        print(f\"Se ha creado la BBDD {nombre_bbdd} correctamente.\")\n",
    "\n",
    "    except mysql.connector.Error as err:\n",
    "        print(err)\n",
    "        print(\"Error Code:\", err.errno)\n",
    "        print(\"SQLSTATE\", err.sqlstate)\n",
    "        print(\"Message\", err.msg)\n",
    "    return mycursor.close() \n",
    "    "
   ]
  },
  {
   "cell_type": "code",
   "execution_count": 7,
   "metadata": {},
   "outputs": [
    {
     "name": "stdout",
     "output_type": "stream",
     "text": [
      "1007 (HY000): Can't create database 'proyecto_1_equipo_1'; database exists\n",
      "Error Code: 1007\n",
      "SQLSTATE HY000\n",
      "Message Can't create database 'proyecto_1_equipo_1'; database exists\n"
     ]
    },
    {
     "data": {
      "text/plain": [
       "True"
      ]
     },
     "execution_count": 7,
     "metadata": {},
     "output_type": "execute_result"
    }
   ],
   "source": [
    "crear_bbdd(\"proyecto_1_equipo_1\")"
   ]
  },
  {
   "cell_type": "markdown",
   "metadata": {},
   "source": [
    "## Creación de tablas"
   ]
  },
  {
   "cell_type": "code",
   "execution_count": 8,
   "metadata": {},
   "outputs": [],
   "source": [
    "# Esta función nos permite crear tablas en la base de datos\n",
    "def creacion_tablas(query):\n",
    "    \n",
    "    cnx = mysql.connector.connect(user='root', password='AlumnaAdalab',\n",
    "                                host='127.0.0.1', database= 'proyecto_1_equipo_1')\n",
    "\n",
    "    mycursor = cnx.cursor()\n",
    "    \n",
    "    try: \n",
    "        mycursor.execute(query)\n",
    "        cnx.commit()\n",
    "        print(mycursor)\n",
    "\n",
    "    except mysql.connector.Error as err:\n",
    "        print(err)\n",
    "        print(\"Error Code:\", err.errno)\n",
    "        print(\"SQLSTATE\", err.sqlstate)\n",
    "        print(\"Message\", err.msg)\n",
    "    \n",
    "    else:\n",
    "        mycursor.close()\n",
    "        cnx.close()"
   ]
  },
  {
   "cell_type": "markdown",
   "metadata": {},
   "source": [
    "- Query para crear la tabla de datos sql"
   ]
  },
  {
   "cell_type": "code",
   "execution_count": 1,
   "metadata": {},
   "outputs": [],
   "source": [
    "data_sql = \"\"\"CREATE TABLE IF NOT EXISTS data_sql (\n",
    "index_sql INT NOT NULL AUTO_INCREMENT,\n",
    "q10_part_1 VARCHAR(255),\n",
    "q10_part_2 VARCHAR(255),\n",
    "q10_part_3 VARCHAR(255),\n",
    "q10_part_4 VARCHAR(255),\n",
    "q10_part_5 VARCHAR(255),\n",
    "q10_part_6 VARCHAR(255),\n",
    "q10_part_7 VARCHAR(255),\n",
    "q10_part_8 VARCHAR(255),\n",
    "q10_part_9 VARCHAR(255),\n",
    "q10_part_10 VARCHAR(255),\n",
    "q10_part_11 VARCHAR(255),\n",
    "q10_part_12 VARCHAR(255),\n",
    "q10_part_13 VARCHAR(255),\n",
    "q10_part_14 VARCHAR(255),\n",
    "q10_part_15 VARCHAR(255),\n",
    "q10_part_16 VARCHAR(255),\n",
    "q10_other VARCHAR(255),\n",
    "d482xta VARCHAR(255),\n",
    "PRIMARY KEY (index_sql));\"\"\""
   ]
  },
  {
   "cell_type": "code",
   "execution_count": 9,
   "metadata": {},
   "outputs": [
    {
     "name": "stdout",
     "output_type": "stream",
     "text": [
      "CMySQLCursor: CREATE TABLE IF NOT EXISTS data_sql (\n",
      "in..\n"
     ]
    }
   ],
   "source": [
    "creacion_tablas(data_sql) "
   ]
  },
  {
   "cell_type": "markdown",
   "metadata": {},
   "source": [
    "- Query para crear la tabla de datos xml."
   ]
  },
  {
   "cell_type": "code",
   "execution_count": 10,
   "metadata": {},
   "outputs": [],
   "source": [
    "data_xml = \"\"\"CREATE TABLE IF NOT EXISTS data_xml(\n",
    "                        index_xml INT,\n",
    "                        `time` VARCHAR(255),\n",
    "                        age VARCHAR(255),\n",
    "                        gender VARCHAR(255),\n",
    "                        index_sql INT,\n",
    "                        PRIMARY KEY(index_xml),\n",
    "                        CONSTRAINT fk_sql_xml\n",
    "                        FOREIGN KEY (index_sql)\n",
    "                        REFERENCES data_sql(index_sql))\"\"\""
   ]
  },
  {
   "cell_type": "code",
   "execution_count": 11,
   "metadata": {},
   "outputs": [
    {
     "name": "stdout",
     "output_type": "stream",
     "text": [
      "CMySQLCursor: CREATE TABLE IF NOT EXISTS data_xml(\n",
      "   ..\n"
     ]
    }
   ],
   "source": [
    "creacion_tablas(data_xml) "
   ]
  },
  {
   "cell_type": "markdown",
   "metadata": {},
   "source": [
    "- Query para crear la tabla de datos txt."
   ]
  },
  {
   "cell_type": "code",
   "execution_count": 12,
   "metadata": {},
   "outputs": [],
   "source": [
    "data_txt = \"\"\"CREATE TABLE IF NOT EXISTS data_txt (\n",
    "index_txt INT NOT NULL AUTO_INCREMENT,\n",
    "index_sql INT NOT NULL,\n",
    "q3 VARCHAR(255),\n",
    "q4 VARCHAR(255),\n",
    "q5 VARCHAR(255),\n",
    "q6 VARCHAR(255),\n",
    "q7 VARCHAR(255),\n",
    "q8 VARCHAR(255),\n",
    "q9 VARCHAR(255),\n",
    "q11 VARCHAR(255),\n",
    "q12 VARCHAR(255),\n",
    "q13 VARCHAR(255),\n",
    "q14 VARCHAR(255),\n",
    "q15 VARCHAR(255),\n",
    "q16 VARCHAR(255),\n",
    "q17 LONGTEXT,\n",
    "q20 VARCHAR(255),\n",
    "q21 VARCHAR(255),\n",
    "q22 VARCHAR(255),\n",
    "q23 VARCHAR(255),\n",
    "q24 LONGTEXT,\n",
    "q25 VARCHAR(255),\n",
    "q26 VARCHAR(255),\n",
    "q32 LONGTEXT,\n",
    "q33 VARCHAR(255),\n",
    "q34 VARCHAR(255),\n",
    "q35 VARCHAR(255),\n",
    "q41 VARCHAR(255),\n",
    "PRIMARY KEY (index_txt),\n",
    "CONSTRAINT fk_tabla_sql_tabla_txt\n",
    "FOREIGN KEY (index_sql)\n",
    "REFERENCES data_sql (index_sql) ON DELETE CASCADE ON UPDATE CASCADE);\"\"\""
   ]
  },
  {
   "cell_type": "code",
   "execution_count": 13,
   "metadata": {},
   "outputs": [
    {
     "name": "stdout",
     "output_type": "stream",
     "text": [
      "CMySQLCursor: CREATE TABLE IF NOT EXISTS data_txt (\n",
      "in..\n"
     ]
    }
   ],
   "source": [
    "creacion_tablas(data_txt) "
   ]
  }
 ],
 "metadata": {
  "kernelspec": {
   "display_name": "Python 3.9.13 ('base')",
   "language": "python",
   "name": "python3"
  },
  "language_info": {
   "codemirror_mode": {
    "name": "ipython",
    "version": 3
   },
   "file_extension": ".py",
   "mimetype": "text/x-python",
   "name": "python",
   "nbconvert_exporter": "python",
   "pygments_lexer": "ipython3",
   "version": "3.9.13"
  },
  "orig_nbformat": 4,
  "vscode": {
   "interpreter": {
    "hash": "f2104d434ce3092b7c07d5af98c90652611c7ad655b2a72b59e9e675e449bc7b"
   }
  }
 },
 "nbformat": 4,
 "nbformat_minor": 2
}
