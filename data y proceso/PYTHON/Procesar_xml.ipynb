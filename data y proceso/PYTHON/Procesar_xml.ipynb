{
 "cells": [
  {
   "cell_type": "code",
   "execution_count": 1,
   "metadata": {},
   "outputs": [],
   "source": [
    "import re\n",
    "import os\n",
    "import xml.etree.ElementTree as ET\n",
    "import mysql.connector \n",
    "import pandas as pd"
   ]
  },
  {
   "cell_type": "code",
   "execution_count": 2,
   "metadata": {},
   "outputs": [],
   "source": [
    "class Datos_xml:\n",
    "\n",
    "# Esta clase almacenará la función para leer y limpiar los datos xml.\n",
    "# Como parámetro recibirá el nombre del archivo.\n",
    "\n",
    "    def __init__(self, nombre_archivo):\n",
    "        self.nombre_archivo = nombre_archivo\n",
    "\n",
    "    #Función para leer el archivo xml\n",
    "    def lectura_xml(self):\n",
    "    \n",
    "\n",
    "        tree = ET.parse(self.nombre_archivo)\n",
    "        root = tree.getroot()\n",
    "\n",
    "        self.xml_lista = []\n",
    "        for child in root:\n",
    "            xml_dict = {}\n",
    "            for subchild in child:\n",
    "                xml_dict[subchild.tag] = subchild.text\n",
    "            self.xml_lista.append(xml_dict) # Es una lista que contiene diccionarios\n",
    "        return self.xml_lista\n",
    "\n",
    "    # Esta función actualiza los datos de la columna género. \n",
    "    # Como parámetro recibe la variable creada con el método lectura_xml.\n",
    "    def actualización_género(self,xml_lista):\n",
    "    \n",
    "        self.xml_lista = xml_lista\n",
    "        \n",
    "        for i in xml_lista:\n",
    "            \n",
    "            if i[\"gender\"] == '0':\n",
    "                i[\"gender\"] = \"Man\"\n",
    "            elif i[\"gender\"] == '1':\n",
    "                i[\"gender\"] = \"Woman\"\n",
    "            elif i[\"gender\"] == '2':\n",
    "                i[\"gender\"] = \"Nonbinary\"\n",
    "            elif i[\"gender\"] == '3':\n",
    "                i[\"gender\"] = \"Prefer not to say\"\n",
    "            elif i[\"gender\"] == '4':\n",
    "                i[\"gender\"] = \"Prefer to self-describe\"\n",
    "\n",
    "        return xml_lista\n",
    "\n",
    "    def limpieza_datos(self,xml_lista):\n",
    "\n",
    "    # Con esta función se preparan los datos para su inserción:\n",
    "    # Como argumento recibe la variable creada con el método atualización genero.\n",
    "\n",
    "        self.xml_lista = xml_lista\n",
    "\n",
    "        # Eliminar la primera columna\n",
    "        try:\n",
    "            for i in xml_lista:\n",
    "                i.pop(\"level_0\")\n",
    "                i[\"index\"] = int(i[\"index\"])\n",
    "        except: pass\n",
    "\n",
    "        # Convertir los datos de la columna index en tipo integer\n",
    "\n",
    "        try:\n",
    "            for i in xml_lista:\n",
    "                i[\"index\"] = int(i[\"index\"])\n",
    "        except: pass\n",
    "\n",
    "        # Aplicar la condición if para evitar problemas con index_sql, se aplica el método setdefault para buscar la key index_sql y asignarle un value de tipo integer.\n",
    "\n",
    "        try:\n",
    "            for i in xml_lista:\n",
    "                if (xml_lista[0] != \"index_sql\"):\n",
    "                    i.setdefault(\"index_sql\", int(i[\"index\"]))\n",
    "        except: pass\n",
    "\n",
    "        # Convertir los datos en una lista de tuplas.\n",
    "    \n",
    "        tupla_xml = []\n",
    "\n",
    "        for i in xml_lista:\n",
    "            tupla_xml.append(tuple(i.values()))\n",
    "    \n",
    "        return tupla_xml\n"
   ]
  },
  {
   "cell_type": "code",
   "execution_count": 3,
   "metadata": {},
   "outputs": [],
   "source": [
    "# Creación de instancia\n",
    "archivo_xml = Datos_xml (\"data_xml.xml\")"
   ]
  },
  {
   "cell_type": "code",
   "execution_count": 4,
   "metadata": {},
   "outputs": [],
   "source": [
    "# Aplicación del método de lectura a la instancia\n",
    "lectura_xml = archivo_xml.lectura_xml()"
   ]
  },
  {
   "cell_type": "code",
   "execution_count": 5,
   "metadata": {},
   "outputs": [],
   "source": [
    "# Aplicación del método de actualización de los datos de género a la instancia\n",
    "genero_xml = archivo_xml.actualización_género(lectura_xml)"
   ]
  },
  {
   "cell_type": "code",
   "execution_count": 6,
   "metadata": {},
   "outputs": [],
   "source": [
    "# Aplicación del método de limpieza a la instancia, da lugar al archivo limpio con los datos a insertar.\n",
    "archivo_xml_limpio = archivo_xml.limpieza_datos(genero_xml)"
   ]
  },
  {
   "cell_type": "code",
   "execution_count": 7,
   "metadata": {},
   "outputs": [
    {
     "name": "stdout",
     "output_type": "stream",
     "text": [
      "(1, '784', '50-54', 'Man', 1)\n"
     ]
    }
   ],
   "source": [
    "print(archivo_xml_limpio[0])"
   ]
  },
  {
   "cell_type": "code",
   "execution_count": 15,
   "metadata": {},
   "outputs": [],
   "source": [
    "class Insertar_datos_xml:\n",
    "# Esta clase creará una instancia para la inserción de los datos limpios de los arhivos .xml.\n",
    "# Como argumento recibirá el nombre del archivo de xml limpio (archivo_xml_limpio).\n",
    "\n",
    "    def __init__(self, fichero_xml):\n",
    "        \n",
    "        self.fichero_xml = fichero_xml\n",
    "\n",
    "    def insercion_datos(self):\n",
    "        # Con esta función se insertan los datos limpios del fichero xml wn la tabla_xml de la Base de datos.\n",
    "        # No requiere parámetro.\n",
    "\n",
    "        cnx = mysql.connector.connect(user='root', password='AlumnaAdalab',\n",
    "                                    host='127.0.0.1', database= \"proyecto_1_equipo_1\")\n",
    "        cursor = cnx.cursor()\n",
    "        query_xml = \"INSERT INTO data_xml(index_xml, `time`, age, gender, index_sql) VALUES (%s,%s,%s,%s,%s);\"\n",
    "        \n",
    "        try:\n",
    "            cursor.execute(\"SET GLOBAL FOREIGN_KEY_CHECKS=0;\") # Se desactiva temporalmente la foreign key\n",
    "            cursor.executemany (query_xml, self.fichero_xml )\n",
    "            cnx.commit()\n",
    "            print(cursor.rowcount, \"registros insertados correctamente.\")\n",
    "            cursor.execute(\"SET GLOBAL FOREIGN_KEY_CHECKS=1;\") # Se reactiva la foreign key\n",
    "        \n",
    "        except mysql.connector.Error as err:\n",
    "            print(err)\n",
    "            print(\"Error Code:\", err.errno)\n",
    "            print(\"SQLSTATE\", err.sqlstate)\n",
    "            print(\"Message\", err.msg)\n",
    "        cursor.close()\n",
    "        cnx.close()"
   ]
  },
  {
   "cell_type": "code",
   "execution_count": 16,
   "metadata": {},
   "outputs": [],
   "source": [
    "insercion_xml = Insertar_datos_xml(archivo_xml_limpio)\n"
   ]
  },
  {
   "cell_type": "code",
   "execution_count": 17,
   "metadata": {},
   "outputs": [
    {
     "name": "stdout",
     "output_type": "stream",
     "text": [
      "25972 registros insertados correctamente.\n"
     ]
    }
   ],
   "source": [
    "insercion_xml.insercion_datos()"
   ]
  }
 ],
 "metadata": {
  "kernelspec": {
   "display_name": "Python 3.6.9 64-bit",
   "language": "python",
   "name": "python3"
  },
  "language_info": {
   "codemirror_mode": {
    "name": "ipython",
    "version": 3
   },
   "file_extension": ".py",
   "mimetype": "text/x-python",
   "name": "python",
   "nbconvert_exporter": "python",
   "pygments_lexer": "ipython3",
   "version": "3.6.9"
  },
  "orig_nbformat": 4,
  "vscode": {
   "interpreter": {
    "hash": "31f2aee4e71d21fbe5cf8b01ff0e069b9275f58929596ceb00d14d90e3e16cd6"
   }
  }
 },
 "nbformat": 4,
 "nbformat_minor": 2
}
